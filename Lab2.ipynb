{
  "nbformat": 4,
  "nbformat_minor": 0,
  "metadata": {
    "colab": {
      "provenance": []
    },
    "kernelspec": {
      "name": "python3",
      "display_name": "Python 3"
    },
    "language_info": {
      "name": "python"
    }
  },
  "cells": [
    {
      "cell_type": "markdown",
      "source": [
        "# ЛР №2 Проведение исследований с логистической и линейной регрессией.\n",
        "Датасеты: 'Loan new dataset' https://www.kaggle.com/datasets/willianoliveiragibin/financial-risk-v2 \\\n",
        "Задачей было определять, разрешат ли кредит клиенту - столбец LoanApproved (0 - не разрешено, 1 - разрешено) \\\n",
        "'medical_insurance' https://www.kaggle.com/datasets/rahulvyasm/medical-insurance-cost-prediction \\\n",
        "Задачей было предсказывать цену страховки - столбец charges."
      ],
      "metadata": {
        "id": "iwu9W9faBwbG"
      }
    },
    {
      "cell_type": "markdown",
      "source": [
        "# 2. Логистическая и линейная регрессии"
      ],
      "metadata": {
        "id": "U7l2u9R6CEd1"
      }
    },
    {
      "cell_type": "markdown",
      "source": [
        "Загружаем датасет и смотрим его верхние строки"
      ],
      "metadata": {
        "id": "jWTvgV3GBxZl"
      }
    },
    {
      "cell_type": "code",
      "source": [
        "import pandas as pd\n",
        "from sklearn.model_selection import train_test_split, GridSearchCV\n",
        "from sklearn.preprocessing import StandardScaler, LabelEncoder\n",
        "from sklearn.impute import SimpleImputer\n",
        "from sklearn.linear_model import LinearRegression, LogisticRegression\n",
        "from sklearn.model_selection import train_test_split\n",
        "from sklearn import metrics\n",
        "\n",
        "file_path = \"loan.csv\"\n",
        "data_class = pd.read_csv(file_path)\n",
        "data_class.head()\n",
        "\n"
      ],
      "metadata": {
        "colab": {
          "base_uri": "https://localhost:8080/",
          "height": 255
        },
        "id": "VLIuEyBWPfgG",
        "outputId": "738dd220-286f-48e4-9a4c-c637515e8654"
      },
      "execution_count": 21,
      "outputs": [
        {
          "output_type": "execute_result",
          "data": {
            "text/plain": [
              "  ApplicationDate  Age  AnnualIncome  CreditScore EmploymentStatus  \\\n",
              "0      2018-01-01   45         39948          617         Employed   \n",
              "1      2018-01-02   38         39709          628         Employed   \n",
              "2      2018-01-03   47         40724          570         Employed   \n",
              "3      2018-01-04   58         69084          545         Employed   \n",
              "4      2018-01-05   37        103264          594         Employed   \n",
              "\n",
              "  EducationLevel  Experience  LoanAmount  LoanDuration MaritalStatus  ...  \\\n",
              "0         Master          22       13152            48       Married  ...   \n",
              "1      Associate          15       26045            48        Single  ...   \n",
              "2       Bachelor          26       17627            36       Married  ...   \n",
              "3    High School          34       37898            96        Single  ...   \n",
              "4      Associate          17        9184            36       Married  ...   \n",
              "\n",
              "            MonthlyIncome UtilityBillsPaymentHistory  JobTenure NetWorth  \\\n",
              "0                  3329.0      7.249.720.460.524.030         11   126928   \n",
              "1  33.090.833.333.333.300      9.351.320.992.549.320          3    43609   \n",
              "2  33.936.666.666.666.600      8.722.406.105.782.900          6     5205   \n",
              "3                  5757.0      8.961.547.069.636.460          5    99452   \n",
              "4   8.605.333.333.333.330      9.413.687.393.229.140          5   227019   \n",
              "\n",
              "         BaseInterestRate            InterestRate      MonthlyLoanPayment  \\\n",
              "0  19.965.200.000.000.000  22.758.963.035.547.000   4.198.059.915.607.370   \n",
              "1                 207.045   2.010.771.214.969.360   7.940.542.382.198.960   \n",
              "2  21.762.700.000.000.000  21.254.800.984.525.700   6.664.066.876.774.690   \n",
              "3                 300.398   3.009.108.491.496.010  10.475.069.802.292.900   \n",
              "4                 197.184  17.599.017.877.532.800  33.017.914.048.482.300   \n",
              "\n",
              "   TotalDebtToIncomeRatio LoanApproved  RiskScore  \n",
              "0  18.107.719.782.539.400            0       49.0  \n",
              "1   3.898.524.480.253.530            0       52.0  \n",
              "2   4.621.569.652.325.320            0       52.0  \n",
              "3   3.130.983.116.604.640            0       54.0  \n",
              "4   7.020.984.743.780.870            1       36.0  \n",
              "\n",
              "[5 rows x 36 columns]"
            ],
            "text/html": [
              "\n",
              "  <div id=\"df-ddf5bf5e-a940-4ecd-b853-ddeec353e34b\" class=\"colab-df-container\">\n",
              "    <div>\n",
              "<style scoped>\n",
              "    .dataframe tbody tr th:only-of-type {\n",
              "        vertical-align: middle;\n",
              "    }\n",
              "\n",
              "    .dataframe tbody tr th {\n",
              "        vertical-align: top;\n",
              "    }\n",
              "\n",
              "    .dataframe thead th {\n",
              "        text-align: right;\n",
              "    }\n",
              "</style>\n",
              "<table border=\"1\" class=\"dataframe\">\n",
              "  <thead>\n",
              "    <tr style=\"text-align: right;\">\n",
              "      <th></th>\n",
              "      <th>ApplicationDate</th>\n",
              "      <th>Age</th>\n",
              "      <th>AnnualIncome</th>\n",
              "      <th>CreditScore</th>\n",
              "      <th>EmploymentStatus</th>\n",
              "      <th>EducationLevel</th>\n",
              "      <th>Experience</th>\n",
              "      <th>LoanAmount</th>\n",
              "      <th>LoanDuration</th>\n",
              "      <th>MaritalStatus</th>\n",
              "      <th>...</th>\n",
              "      <th>MonthlyIncome</th>\n",
              "      <th>UtilityBillsPaymentHistory</th>\n",
              "      <th>JobTenure</th>\n",
              "      <th>NetWorth</th>\n",
              "      <th>BaseInterestRate</th>\n",
              "      <th>InterestRate</th>\n",
              "      <th>MonthlyLoanPayment</th>\n",
              "      <th>TotalDebtToIncomeRatio</th>\n",
              "      <th>LoanApproved</th>\n",
              "      <th>RiskScore</th>\n",
              "    </tr>\n",
              "  </thead>\n",
              "  <tbody>\n",
              "    <tr>\n",
              "      <th>0</th>\n",
              "      <td>2018-01-01</td>\n",
              "      <td>45</td>\n",
              "      <td>39948</td>\n",
              "      <td>617</td>\n",
              "      <td>Employed</td>\n",
              "      <td>Master</td>\n",
              "      <td>22</td>\n",
              "      <td>13152</td>\n",
              "      <td>48</td>\n",
              "      <td>Married</td>\n",
              "      <td>...</td>\n",
              "      <td>3329.0</td>\n",
              "      <td>7.249.720.460.524.030</td>\n",
              "      <td>11</td>\n",
              "      <td>126928</td>\n",
              "      <td>19.965.200.000.000.000</td>\n",
              "      <td>22.758.963.035.547.000</td>\n",
              "      <td>4.198.059.915.607.370</td>\n",
              "      <td>18.107.719.782.539.400</td>\n",
              "      <td>0</td>\n",
              "      <td>49.0</td>\n",
              "    </tr>\n",
              "    <tr>\n",
              "      <th>1</th>\n",
              "      <td>2018-01-02</td>\n",
              "      <td>38</td>\n",
              "      <td>39709</td>\n",
              "      <td>628</td>\n",
              "      <td>Employed</td>\n",
              "      <td>Associate</td>\n",
              "      <td>15</td>\n",
              "      <td>26045</td>\n",
              "      <td>48</td>\n",
              "      <td>Single</td>\n",
              "      <td>...</td>\n",
              "      <td>33.090.833.333.333.300</td>\n",
              "      <td>9.351.320.992.549.320</td>\n",
              "      <td>3</td>\n",
              "      <td>43609</td>\n",
              "      <td>207.045</td>\n",
              "      <td>2.010.771.214.969.360</td>\n",
              "      <td>7.940.542.382.198.960</td>\n",
              "      <td>3.898.524.480.253.530</td>\n",
              "      <td>0</td>\n",
              "      <td>52.0</td>\n",
              "    </tr>\n",
              "    <tr>\n",
              "      <th>2</th>\n",
              "      <td>2018-01-03</td>\n",
              "      <td>47</td>\n",
              "      <td>40724</td>\n",
              "      <td>570</td>\n",
              "      <td>Employed</td>\n",
              "      <td>Bachelor</td>\n",
              "      <td>26</td>\n",
              "      <td>17627</td>\n",
              "      <td>36</td>\n",
              "      <td>Married</td>\n",
              "      <td>...</td>\n",
              "      <td>33.936.666.666.666.600</td>\n",
              "      <td>8.722.406.105.782.900</td>\n",
              "      <td>6</td>\n",
              "      <td>5205</td>\n",
              "      <td>21.762.700.000.000.000</td>\n",
              "      <td>21.254.800.984.525.700</td>\n",
              "      <td>6.664.066.876.774.690</td>\n",
              "      <td>4.621.569.652.325.320</td>\n",
              "      <td>0</td>\n",
              "      <td>52.0</td>\n",
              "    </tr>\n",
              "    <tr>\n",
              "      <th>3</th>\n",
              "      <td>2018-01-04</td>\n",
              "      <td>58</td>\n",
              "      <td>69084</td>\n",
              "      <td>545</td>\n",
              "      <td>Employed</td>\n",
              "      <td>High School</td>\n",
              "      <td>34</td>\n",
              "      <td>37898</td>\n",
              "      <td>96</td>\n",
              "      <td>Single</td>\n",
              "      <td>...</td>\n",
              "      <td>5757.0</td>\n",
              "      <td>8.961.547.069.636.460</td>\n",
              "      <td>5</td>\n",
              "      <td>99452</td>\n",
              "      <td>300.398</td>\n",
              "      <td>3.009.108.491.496.010</td>\n",
              "      <td>10.475.069.802.292.900</td>\n",
              "      <td>3.130.983.116.604.640</td>\n",
              "      <td>0</td>\n",
              "      <td>54.0</td>\n",
              "    </tr>\n",
              "    <tr>\n",
              "      <th>4</th>\n",
              "      <td>2018-01-05</td>\n",
              "      <td>37</td>\n",
              "      <td>103264</td>\n",
              "      <td>594</td>\n",
              "      <td>Employed</td>\n",
              "      <td>Associate</td>\n",
              "      <td>17</td>\n",
              "      <td>9184</td>\n",
              "      <td>36</td>\n",
              "      <td>Married</td>\n",
              "      <td>...</td>\n",
              "      <td>8.605.333.333.333.330</td>\n",
              "      <td>9.413.687.393.229.140</td>\n",
              "      <td>5</td>\n",
              "      <td>227019</td>\n",
              "      <td>197.184</td>\n",
              "      <td>17.599.017.877.532.800</td>\n",
              "      <td>33.017.914.048.482.300</td>\n",
              "      <td>7.020.984.743.780.870</td>\n",
              "      <td>1</td>\n",
              "      <td>36.0</td>\n",
              "    </tr>\n",
              "  </tbody>\n",
              "</table>\n",
              "<p>5 rows × 36 columns</p>\n",
              "</div>\n",
              "    <div class=\"colab-df-buttons\">\n",
              "\n",
              "  <div class=\"colab-df-container\">\n",
              "    <button class=\"colab-df-convert\" onclick=\"convertToInteractive('df-ddf5bf5e-a940-4ecd-b853-ddeec353e34b')\"\n",
              "            title=\"Convert this dataframe to an interactive table.\"\n",
              "            style=\"display:none;\">\n",
              "\n",
              "  <svg xmlns=\"http://www.w3.org/2000/svg\" height=\"24px\" viewBox=\"0 -960 960 960\">\n",
              "    <path d=\"M120-120v-720h720v720H120Zm60-500h600v-160H180v160Zm220 220h160v-160H400v160Zm0 220h160v-160H400v160ZM180-400h160v-160H180v160Zm440 0h160v-160H620v160ZM180-180h160v-160H180v160Zm440 0h160v-160H620v160Z\"/>\n",
              "  </svg>\n",
              "    </button>\n",
              "\n",
              "  <style>\n",
              "    .colab-df-container {\n",
              "      display:flex;\n",
              "      gap: 12px;\n",
              "    }\n",
              "\n",
              "    .colab-df-convert {\n",
              "      background-color: #E8F0FE;\n",
              "      border: none;\n",
              "      border-radius: 50%;\n",
              "      cursor: pointer;\n",
              "      display: none;\n",
              "      fill: #1967D2;\n",
              "      height: 32px;\n",
              "      padding: 0 0 0 0;\n",
              "      width: 32px;\n",
              "    }\n",
              "\n",
              "    .colab-df-convert:hover {\n",
              "      background-color: #E2EBFA;\n",
              "      box-shadow: 0px 1px 2px rgba(60, 64, 67, 0.3), 0px 1px 3px 1px rgba(60, 64, 67, 0.15);\n",
              "      fill: #174EA6;\n",
              "    }\n",
              "\n",
              "    .colab-df-buttons div {\n",
              "      margin-bottom: 4px;\n",
              "    }\n",
              "\n",
              "    [theme=dark] .colab-df-convert {\n",
              "      background-color: #3B4455;\n",
              "      fill: #D2E3FC;\n",
              "    }\n",
              "\n",
              "    [theme=dark] .colab-df-convert:hover {\n",
              "      background-color: #434B5C;\n",
              "      box-shadow: 0px 1px 3px 1px rgba(0, 0, 0, 0.15);\n",
              "      filter: drop-shadow(0px 1px 2px rgba(0, 0, 0, 0.3));\n",
              "      fill: #FFFFFF;\n",
              "    }\n",
              "  </style>\n",
              "\n",
              "    <script>\n",
              "      const buttonEl =\n",
              "        document.querySelector('#df-ddf5bf5e-a940-4ecd-b853-ddeec353e34b button.colab-df-convert');\n",
              "      buttonEl.style.display =\n",
              "        google.colab.kernel.accessAllowed ? 'block' : 'none';\n",
              "\n",
              "      async function convertToInteractive(key) {\n",
              "        const element = document.querySelector('#df-ddf5bf5e-a940-4ecd-b853-ddeec353e34b');\n",
              "        const dataTable =\n",
              "          await google.colab.kernel.invokeFunction('convertToInteractive',\n",
              "                                                    [key], {});\n",
              "        if (!dataTable) return;\n",
              "\n",
              "        const docLinkHtml = 'Like what you see? Visit the ' +\n",
              "          '<a target=\"_blank\" href=https://colab.research.google.com/notebooks/data_table.ipynb>data table notebook</a>'\n",
              "          + ' to learn more about interactive tables.';\n",
              "        element.innerHTML = '';\n",
              "        dataTable['output_type'] = 'display_data';\n",
              "        await google.colab.output.renderOutput(dataTable, element);\n",
              "        const docLink = document.createElement('div');\n",
              "        docLink.innerHTML = docLinkHtml;\n",
              "        element.appendChild(docLink);\n",
              "      }\n",
              "    </script>\n",
              "  </div>\n",
              "\n",
              "\n",
              "<div id=\"df-c4f09f95-1e5a-4ab0-9b69-d79adf042b28\">\n",
              "  <button class=\"colab-df-quickchart\" onclick=\"quickchart('df-c4f09f95-1e5a-4ab0-9b69-d79adf042b28')\"\n",
              "            title=\"Suggest charts\"\n",
              "            style=\"display:none;\">\n",
              "\n",
              "<svg xmlns=\"http://www.w3.org/2000/svg\" height=\"24px\"viewBox=\"0 0 24 24\"\n",
              "     width=\"24px\">\n",
              "    <g>\n",
              "        <path d=\"M19 3H5c-1.1 0-2 .9-2 2v14c0 1.1.9 2 2 2h14c1.1 0 2-.9 2-2V5c0-1.1-.9-2-2-2zM9 17H7v-7h2v7zm4 0h-2V7h2v10zm4 0h-2v-4h2v4z\"/>\n",
              "    </g>\n",
              "</svg>\n",
              "  </button>\n",
              "\n",
              "<style>\n",
              "  .colab-df-quickchart {\n",
              "      --bg-color: #E8F0FE;\n",
              "      --fill-color: #1967D2;\n",
              "      --hover-bg-color: #E2EBFA;\n",
              "      --hover-fill-color: #174EA6;\n",
              "      --disabled-fill-color: #AAA;\n",
              "      --disabled-bg-color: #DDD;\n",
              "  }\n",
              "\n",
              "  [theme=dark] .colab-df-quickchart {\n",
              "      --bg-color: #3B4455;\n",
              "      --fill-color: #D2E3FC;\n",
              "      --hover-bg-color: #434B5C;\n",
              "      --hover-fill-color: #FFFFFF;\n",
              "      --disabled-bg-color: #3B4455;\n",
              "      --disabled-fill-color: #666;\n",
              "  }\n",
              "\n",
              "  .colab-df-quickchart {\n",
              "    background-color: var(--bg-color);\n",
              "    border: none;\n",
              "    border-radius: 50%;\n",
              "    cursor: pointer;\n",
              "    display: none;\n",
              "    fill: var(--fill-color);\n",
              "    height: 32px;\n",
              "    padding: 0;\n",
              "    width: 32px;\n",
              "  }\n",
              "\n",
              "  .colab-df-quickchart:hover {\n",
              "    background-color: var(--hover-bg-color);\n",
              "    box-shadow: 0 1px 2px rgba(60, 64, 67, 0.3), 0 1px 3px 1px rgba(60, 64, 67, 0.15);\n",
              "    fill: var(--button-hover-fill-color);\n",
              "  }\n",
              "\n",
              "  .colab-df-quickchart-complete:disabled,\n",
              "  .colab-df-quickchart-complete:disabled:hover {\n",
              "    background-color: var(--disabled-bg-color);\n",
              "    fill: var(--disabled-fill-color);\n",
              "    box-shadow: none;\n",
              "  }\n",
              "\n",
              "  .colab-df-spinner {\n",
              "    border: 2px solid var(--fill-color);\n",
              "    border-color: transparent;\n",
              "    border-bottom-color: var(--fill-color);\n",
              "    animation:\n",
              "      spin 1s steps(1) infinite;\n",
              "  }\n",
              "\n",
              "  @keyframes spin {\n",
              "    0% {\n",
              "      border-color: transparent;\n",
              "      border-bottom-color: var(--fill-color);\n",
              "      border-left-color: var(--fill-color);\n",
              "    }\n",
              "    20% {\n",
              "      border-color: transparent;\n",
              "      border-left-color: var(--fill-color);\n",
              "      border-top-color: var(--fill-color);\n",
              "    }\n",
              "    30% {\n",
              "      border-color: transparent;\n",
              "      border-left-color: var(--fill-color);\n",
              "      border-top-color: var(--fill-color);\n",
              "      border-right-color: var(--fill-color);\n",
              "    }\n",
              "    40% {\n",
              "      border-color: transparent;\n",
              "      border-right-color: var(--fill-color);\n",
              "      border-top-color: var(--fill-color);\n",
              "    }\n",
              "    60% {\n",
              "      border-color: transparent;\n",
              "      border-right-color: var(--fill-color);\n",
              "    }\n",
              "    80% {\n",
              "      border-color: transparent;\n",
              "      border-right-color: var(--fill-color);\n",
              "      border-bottom-color: var(--fill-color);\n",
              "    }\n",
              "    90% {\n",
              "      border-color: transparent;\n",
              "      border-bottom-color: var(--fill-color);\n",
              "    }\n",
              "  }\n",
              "</style>\n",
              "\n",
              "  <script>\n",
              "    async function quickchart(key) {\n",
              "      const quickchartButtonEl =\n",
              "        document.querySelector('#' + key + ' button');\n",
              "      quickchartButtonEl.disabled = true;  // To prevent multiple clicks.\n",
              "      quickchartButtonEl.classList.add('colab-df-spinner');\n",
              "      try {\n",
              "        const charts = await google.colab.kernel.invokeFunction(\n",
              "            'suggestCharts', [key], {});\n",
              "      } catch (error) {\n",
              "        console.error('Error during call to suggestCharts:', error);\n",
              "      }\n",
              "      quickchartButtonEl.classList.remove('colab-df-spinner');\n",
              "      quickchartButtonEl.classList.add('colab-df-quickchart-complete');\n",
              "    }\n",
              "    (() => {\n",
              "      let quickchartButtonEl =\n",
              "        document.querySelector('#df-c4f09f95-1e5a-4ab0-9b69-d79adf042b28 button');\n",
              "      quickchartButtonEl.style.display =\n",
              "        google.colab.kernel.accessAllowed ? 'block' : 'none';\n",
              "    })();\n",
              "  </script>\n",
              "</div>\n",
              "    </div>\n",
              "  </div>\n"
            ],
            "application/vnd.google.colaboratory.intrinsic+json": {
              "type": "dataframe",
              "variable_name": "data_class"
            }
          },
          "metadata": {},
          "execution_count": 21
        }
      ]
    },
    {
      "cell_type": "markdown",
      "source": [
        "То же самое для датасета медицинской страховки"
      ],
      "metadata": {
        "id": "5-PLesNzerv4"
      }
    },
    {
      "cell_type": "code",
      "source": [
        "file_path2 = \"medical_insurance.csv\"\n",
        "data_regr = pd.read_csv(file_path2)\n",
        "data_regr.head()"
      ],
      "metadata": {
        "colab": {
          "base_uri": "https://localhost:8080/",
          "height": 206
        },
        "id": "dMypl9uxbunJ",
        "outputId": "61b26184-1b75-4d59-9833-73d32e3557b0"
      },
      "execution_count": 22,
      "outputs": [
        {
          "output_type": "execute_result",
          "data": {
            "text/plain": [
              "   age     sex     bmi  children smoker     region      charges\n",
              "0   19  female  27.900         0    yes  southwest  16884.92400\n",
              "1   18    male  33.770         1     no  southeast   1725.55230\n",
              "2   28    male  33.000         3     no  southeast   4449.46200\n",
              "3   33    male  22.705         0     no  northwest  21984.47061\n",
              "4   32    male  28.880         0     no  northwest   3866.85520"
            ],
            "text/html": [
              "\n",
              "  <div id=\"df-2a61c75e-8c69-484a-bb4f-7c70adeb9122\" class=\"colab-df-container\">\n",
              "    <div>\n",
              "<style scoped>\n",
              "    .dataframe tbody tr th:only-of-type {\n",
              "        vertical-align: middle;\n",
              "    }\n",
              "\n",
              "    .dataframe tbody tr th {\n",
              "        vertical-align: top;\n",
              "    }\n",
              "\n",
              "    .dataframe thead th {\n",
              "        text-align: right;\n",
              "    }\n",
              "</style>\n",
              "<table border=\"1\" class=\"dataframe\">\n",
              "  <thead>\n",
              "    <tr style=\"text-align: right;\">\n",
              "      <th></th>\n",
              "      <th>age</th>\n",
              "      <th>sex</th>\n",
              "      <th>bmi</th>\n",
              "      <th>children</th>\n",
              "      <th>smoker</th>\n",
              "      <th>region</th>\n",
              "      <th>charges</th>\n",
              "    </tr>\n",
              "  </thead>\n",
              "  <tbody>\n",
              "    <tr>\n",
              "      <th>0</th>\n",
              "      <td>19</td>\n",
              "      <td>female</td>\n",
              "      <td>27.900</td>\n",
              "      <td>0</td>\n",
              "      <td>yes</td>\n",
              "      <td>southwest</td>\n",
              "      <td>16884.92400</td>\n",
              "    </tr>\n",
              "    <tr>\n",
              "      <th>1</th>\n",
              "      <td>18</td>\n",
              "      <td>male</td>\n",
              "      <td>33.770</td>\n",
              "      <td>1</td>\n",
              "      <td>no</td>\n",
              "      <td>southeast</td>\n",
              "      <td>1725.55230</td>\n",
              "    </tr>\n",
              "    <tr>\n",
              "      <th>2</th>\n",
              "      <td>28</td>\n",
              "      <td>male</td>\n",
              "      <td>33.000</td>\n",
              "      <td>3</td>\n",
              "      <td>no</td>\n",
              "      <td>southeast</td>\n",
              "      <td>4449.46200</td>\n",
              "    </tr>\n",
              "    <tr>\n",
              "      <th>3</th>\n",
              "      <td>33</td>\n",
              "      <td>male</td>\n",
              "      <td>22.705</td>\n",
              "      <td>0</td>\n",
              "      <td>no</td>\n",
              "      <td>northwest</td>\n",
              "      <td>21984.47061</td>\n",
              "    </tr>\n",
              "    <tr>\n",
              "      <th>4</th>\n",
              "      <td>32</td>\n",
              "      <td>male</td>\n",
              "      <td>28.880</td>\n",
              "      <td>0</td>\n",
              "      <td>no</td>\n",
              "      <td>northwest</td>\n",
              "      <td>3866.85520</td>\n",
              "    </tr>\n",
              "  </tbody>\n",
              "</table>\n",
              "</div>\n",
              "    <div class=\"colab-df-buttons\">\n",
              "\n",
              "  <div class=\"colab-df-container\">\n",
              "    <button class=\"colab-df-convert\" onclick=\"convertToInteractive('df-2a61c75e-8c69-484a-bb4f-7c70adeb9122')\"\n",
              "            title=\"Convert this dataframe to an interactive table.\"\n",
              "            style=\"display:none;\">\n",
              "\n",
              "  <svg xmlns=\"http://www.w3.org/2000/svg\" height=\"24px\" viewBox=\"0 -960 960 960\">\n",
              "    <path d=\"M120-120v-720h720v720H120Zm60-500h600v-160H180v160Zm220 220h160v-160H400v160Zm0 220h160v-160H400v160ZM180-400h160v-160H180v160Zm440 0h160v-160H620v160ZM180-180h160v-160H180v160Zm440 0h160v-160H620v160Z\"/>\n",
              "  </svg>\n",
              "    </button>\n",
              "\n",
              "  <style>\n",
              "    .colab-df-container {\n",
              "      display:flex;\n",
              "      gap: 12px;\n",
              "    }\n",
              "\n",
              "    .colab-df-convert {\n",
              "      background-color: #E8F0FE;\n",
              "      border: none;\n",
              "      border-radius: 50%;\n",
              "      cursor: pointer;\n",
              "      display: none;\n",
              "      fill: #1967D2;\n",
              "      height: 32px;\n",
              "      padding: 0 0 0 0;\n",
              "      width: 32px;\n",
              "    }\n",
              "\n",
              "    .colab-df-convert:hover {\n",
              "      background-color: #E2EBFA;\n",
              "      box-shadow: 0px 1px 2px rgba(60, 64, 67, 0.3), 0px 1px 3px 1px rgba(60, 64, 67, 0.15);\n",
              "      fill: #174EA6;\n",
              "    }\n",
              "\n",
              "    .colab-df-buttons div {\n",
              "      margin-bottom: 4px;\n",
              "    }\n",
              "\n",
              "    [theme=dark] .colab-df-convert {\n",
              "      background-color: #3B4455;\n",
              "      fill: #D2E3FC;\n",
              "    }\n",
              "\n",
              "    [theme=dark] .colab-df-convert:hover {\n",
              "      background-color: #434B5C;\n",
              "      box-shadow: 0px 1px 3px 1px rgba(0, 0, 0, 0.15);\n",
              "      filter: drop-shadow(0px 1px 2px rgba(0, 0, 0, 0.3));\n",
              "      fill: #FFFFFF;\n",
              "    }\n",
              "  </style>\n",
              "\n",
              "    <script>\n",
              "      const buttonEl =\n",
              "        document.querySelector('#df-2a61c75e-8c69-484a-bb4f-7c70adeb9122 button.colab-df-convert');\n",
              "      buttonEl.style.display =\n",
              "        google.colab.kernel.accessAllowed ? 'block' : 'none';\n",
              "\n",
              "      async function convertToInteractive(key) {\n",
              "        const element = document.querySelector('#df-2a61c75e-8c69-484a-bb4f-7c70adeb9122');\n",
              "        const dataTable =\n",
              "          await google.colab.kernel.invokeFunction('convertToInteractive',\n",
              "                                                    [key], {});\n",
              "        if (!dataTable) return;\n",
              "\n",
              "        const docLinkHtml = 'Like what you see? Visit the ' +\n",
              "          '<a target=\"_blank\" href=https://colab.research.google.com/notebooks/data_table.ipynb>data table notebook</a>'\n",
              "          + ' to learn more about interactive tables.';\n",
              "        element.innerHTML = '';\n",
              "        dataTable['output_type'] = 'display_data';\n",
              "        await google.colab.output.renderOutput(dataTable, element);\n",
              "        const docLink = document.createElement('div');\n",
              "        docLink.innerHTML = docLinkHtml;\n",
              "        element.appendChild(docLink);\n",
              "      }\n",
              "    </script>\n",
              "  </div>\n",
              "\n",
              "\n",
              "<div id=\"df-94228050-ce39-411a-94f5-5d4ac9a34f30\">\n",
              "  <button class=\"colab-df-quickchart\" onclick=\"quickchart('df-94228050-ce39-411a-94f5-5d4ac9a34f30')\"\n",
              "            title=\"Suggest charts\"\n",
              "            style=\"display:none;\">\n",
              "\n",
              "<svg xmlns=\"http://www.w3.org/2000/svg\" height=\"24px\"viewBox=\"0 0 24 24\"\n",
              "     width=\"24px\">\n",
              "    <g>\n",
              "        <path d=\"M19 3H5c-1.1 0-2 .9-2 2v14c0 1.1.9 2 2 2h14c1.1 0 2-.9 2-2V5c0-1.1-.9-2-2-2zM9 17H7v-7h2v7zm4 0h-2V7h2v10zm4 0h-2v-4h2v4z\"/>\n",
              "    </g>\n",
              "</svg>\n",
              "  </button>\n",
              "\n",
              "<style>\n",
              "  .colab-df-quickchart {\n",
              "      --bg-color: #E8F0FE;\n",
              "      --fill-color: #1967D2;\n",
              "      --hover-bg-color: #E2EBFA;\n",
              "      --hover-fill-color: #174EA6;\n",
              "      --disabled-fill-color: #AAA;\n",
              "      --disabled-bg-color: #DDD;\n",
              "  }\n",
              "\n",
              "  [theme=dark] .colab-df-quickchart {\n",
              "      --bg-color: #3B4455;\n",
              "      --fill-color: #D2E3FC;\n",
              "      --hover-bg-color: #434B5C;\n",
              "      --hover-fill-color: #FFFFFF;\n",
              "      --disabled-bg-color: #3B4455;\n",
              "      --disabled-fill-color: #666;\n",
              "  }\n",
              "\n",
              "  .colab-df-quickchart {\n",
              "    background-color: var(--bg-color);\n",
              "    border: none;\n",
              "    border-radius: 50%;\n",
              "    cursor: pointer;\n",
              "    display: none;\n",
              "    fill: var(--fill-color);\n",
              "    height: 32px;\n",
              "    padding: 0;\n",
              "    width: 32px;\n",
              "  }\n",
              "\n",
              "  .colab-df-quickchart:hover {\n",
              "    background-color: var(--hover-bg-color);\n",
              "    box-shadow: 0 1px 2px rgba(60, 64, 67, 0.3), 0 1px 3px 1px rgba(60, 64, 67, 0.15);\n",
              "    fill: var(--button-hover-fill-color);\n",
              "  }\n",
              "\n",
              "  .colab-df-quickchart-complete:disabled,\n",
              "  .colab-df-quickchart-complete:disabled:hover {\n",
              "    background-color: var(--disabled-bg-color);\n",
              "    fill: var(--disabled-fill-color);\n",
              "    box-shadow: none;\n",
              "  }\n",
              "\n",
              "  .colab-df-spinner {\n",
              "    border: 2px solid var(--fill-color);\n",
              "    border-color: transparent;\n",
              "    border-bottom-color: var(--fill-color);\n",
              "    animation:\n",
              "      spin 1s steps(1) infinite;\n",
              "  }\n",
              "\n",
              "  @keyframes spin {\n",
              "    0% {\n",
              "      border-color: transparent;\n",
              "      border-bottom-color: var(--fill-color);\n",
              "      border-left-color: var(--fill-color);\n",
              "    }\n",
              "    20% {\n",
              "      border-color: transparent;\n",
              "      border-left-color: var(--fill-color);\n",
              "      border-top-color: var(--fill-color);\n",
              "    }\n",
              "    30% {\n",
              "      border-color: transparent;\n",
              "      border-left-color: var(--fill-color);\n",
              "      border-top-color: var(--fill-color);\n",
              "      border-right-color: var(--fill-color);\n",
              "    }\n",
              "    40% {\n",
              "      border-color: transparent;\n",
              "      border-right-color: var(--fill-color);\n",
              "      border-top-color: var(--fill-color);\n",
              "    }\n",
              "    60% {\n",
              "      border-color: transparent;\n",
              "      border-right-color: var(--fill-color);\n",
              "    }\n",
              "    80% {\n",
              "      border-color: transparent;\n",
              "      border-right-color: var(--fill-color);\n",
              "      border-bottom-color: var(--fill-color);\n",
              "    }\n",
              "    90% {\n",
              "      border-color: transparent;\n",
              "      border-bottom-color: var(--fill-color);\n",
              "    }\n",
              "  }\n",
              "</style>\n",
              "\n",
              "  <script>\n",
              "    async function quickchart(key) {\n",
              "      const quickchartButtonEl =\n",
              "        document.querySelector('#' + key + ' button');\n",
              "      quickchartButtonEl.disabled = true;  // To prevent multiple clicks.\n",
              "      quickchartButtonEl.classList.add('colab-df-spinner');\n",
              "      try {\n",
              "        const charts = await google.colab.kernel.invokeFunction(\n",
              "            'suggestCharts', [key], {});\n",
              "      } catch (error) {\n",
              "        console.error('Error during call to suggestCharts:', error);\n",
              "      }\n",
              "      quickchartButtonEl.classList.remove('colab-df-spinner');\n",
              "      quickchartButtonEl.classList.add('colab-df-quickchart-complete');\n",
              "    }\n",
              "    (() => {\n",
              "      let quickchartButtonEl =\n",
              "        document.querySelector('#df-94228050-ce39-411a-94f5-5d4ac9a34f30 button');\n",
              "      quickchartButtonEl.style.display =\n",
              "        google.colab.kernel.accessAllowed ? 'block' : 'none';\n",
              "    })();\n",
              "  </script>\n",
              "</div>\n",
              "    </div>\n",
              "  </div>\n"
            ],
            "application/vnd.google.colaboratory.intrinsic+json": {
              "type": "dataframe",
              "variable_name": "data_regr",
              "summary": "{\n  \"name\": \"data_regr\",\n  \"rows\": 2772,\n  \"fields\": [\n    {\n      \"column\": \"age\",\n      \"properties\": {\n        \"dtype\": \"number\",\n        \"std\": 14,\n        \"min\": 18,\n        \"max\": 64,\n        \"num_unique_values\": 47,\n        \"samples\": [\n          21,\n          45,\n          36\n        ],\n        \"semantic_type\": \"\",\n        \"description\": \"\"\n      }\n    },\n    {\n      \"column\": \"sex\",\n      \"properties\": {\n        \"dtype\": \"category\",\n        \"num_unique_values\": 2,\n        \"samples\": [\n          \"male\",\n          \"female\"\n        ],\n        \"semantic_type\": \"\",\n        \"description\": \"\"\n      }\n    },\n    {\n      \"column\": \"bmi\",\n      \"properties\": {\n        \"dtype\": \"number\",\n        \"std\": 6.129448694965217,\n        \"min\": 15.96,\n        \"max\": 53.13,\n        \"num_unique_values\": 548,\n        \"samples\": [\n          23.18,\n          26.885\n        ],\n        \"semantic_type\": \"\",\n        \"description\": \"\"\n      }\n    },\n    {\n      \"column\": \"children\",\n      \"properties\": {\n        \"dtype\": \"number\",\n        \"std\": 1,\n        \"min\": 0,\n        \"max\": 5,\n        \"num_unique_values\": 6,\n        \"samples\": [\n          0,\n          1\n        ],\n        \"semantic_type\": \"\",\n        \"description\": \"\"\n      }\n    },\n    {\n      \"column\": \"smoker\",\n      \"properties\": {\n        \"dtype\": \"category\",\n        \"num_unique_values\": 2,\n        \"samples\": [\n          \"no\",\n          \"yes\"\n        ],\n        \"semantic_type\": \"\",\n        \"description\": \"\"\n      }\n    },\n    {\n      \"column\": \"region\",\n      \"properties\": {\n        \"dtype\": \"category\",\n        \"num_unique_values\": 4,\n        \"samples\": [\n          \"southeast\",\n          \"northeast\"\n        ],\n        \"semantic_type\": \"\",\n        \"description\": \"\"\n      }\n    },\n    {\n      \"column\": \"charges\",\n      \"properties\": {\n        \"dtype\": \"number\",\n        \"std\": 12151.768945168034,\n        \"min\": 1121.8739,\n        \"max\": 63770.42801,\n        \"num_unique_values\": 1337,\n        \"samples\": [\n          8688.85885,\n          5708.867\n        ],\n        \"semantic_type\": \"\",\n        \"description\": \"\"\n      }\n    }\n  ]\n}"
            }
          },
          "metadata": {},
          "execution_count": 22
        }
      ]
    },
    {
      "cell_type": "markdown",
      "source": [
        "Посмотрим на распределение LoanApproved в датасете классификации:"
      ],
      "metadata": {
        "id": "UpgxeklICAOt"
      }
    },
    {
      "cell_type": "code",
      "source": [
        "import matplotlib.pyplot as plt\n",
        "import seaborn as sns\n",
        "\n",
        "plt.figure(figsize=(8, 6))\n",
        "sns.countplot(x='LoanApproved', data=data_class)\n",
        "plt.title('LoanApproved')\n",
        "plt.xlabel('1-approve, 0-not approved')\n",
        "plt.ylabel('count')\n",
        "plt.show()"
      ],
      "metadata": {
        "colab": {
          "base_uri": "https://localhost:8080/",
          "height": 564
        },
        "id": "ariuSSQnFgD_",
        "outputId": "198b07b7-23ee-4876-b105-105e173f3246"
      },
      "execution_count": 23,
      "outputs": [
        {
          "output_type": "display_data",
          "data": {
            "text/plain": [
              "<Figure size 800x600 with 1 Axes>"
            ],
            "image/png": "[encoded data removed]"
          },
          "metadata": {}
        }
      ]
    },
    {
      "cell_type": "markdown",
      "source": [
        "Проведем чистку: удалим ненужный столбец ApplicationDate, кодируем категориальные фичи и разделим фичи на целевые и не целевые"
      ],
      "metadata": {
        "id": "0mE2-PXpCNH-"
      }
    },
    {
      "cell_type": "code",
      "source": [
        "data_class_cleaned = data_class.drop(columns=['ApplicationDate'])\n",
        "\n",
        "imputer = SimpleImputer(strategy='mean')\n",
        "numerical_columns = data_class_cleaned.select_dtypes(include=['int64', 'float64']).columns\n",
        "data_class_cleaned[numerical_columns] = imputer.fit_transform(data_class_cleaned[numerical_columns])\n",
        "\n",
        "#кодирование категориальных фич\n",
        "\n",
        "categorical_columns = data_class_cleaned.select_dtypes(include=['object']).columns\n",
        "label_encoders = {}\n",
        "for column in categorical_columns:\n",
        "    le = LabelEncoder()\n",
        "    data_class_cleaned[column] = le.fit_transform(data_class_cleaned[column].astype(str))\n",
        "    label_encoders[column] = le\n",
        "\n",
        "#разделение фич на целевую и не целевую\n",
        "X = data_class_cleaned.drop(columns=['LoanApproved'])\n",
        "y = data_class_cleaned['LoanApproved']\n",
        "\n",
        "X_train_class, X_test_class, y_train_class, y_test_class = train_test_split(X, y, test_size=0.2, random_state=42)\n",
        "scaler = StandardScaler()\n",
        "X_train_class = scaler.fit_transform(X_train_class)\n",
        "X_test_class = scaler.transform(X_test_class)\n"
      ],
      "metadata": {
        "id": "kl9l17QCVNTH"
      },
      "execution_count": 24,
      "outputs": []
    },
    {
      "cell_type": "markdown",
      "source": [
        "Кодируем фичи для датасета регрессии"
      ],
      "metadata": {
        "id": "QUHr4k5HfPQg"
      }
    },
    {
      "cell_type": "code",
      "source": [
        "from sklearn.preprocessing import StandardScaler, LabelEncoder\n",
        "categorical_columns = data_regr.select_dtypes(include=['object']).columns\n",
        "label_encoders = {}\n",
        "for column in categorical_columns:\n",
        "    le = LabelEncoder()\n",
        "    data_regr[column] = le.fit_transform(data_regr[column].astype(str))\n",
        "    label_encoders[column] = le\n",
        "\n",
        "from sklearn.model_selection import train_test_split\n",
        "\n",
        "X = data_regr.drop('charges', axis=1)\n",
        "y = data_regr['charges']\n",
        "\n",
        "X_train_regr, X_test_regr, y_train_regr, y_test_regr = train_test_split(X, y, test_size=0.2, random_state=42)"
      ],
      "metadata": {
        "id": "MHLCCOMX0-SU"
      },
      "execution_count": 25,
      "outputs": []
    },
    {
      "cell_type": "markdown",
      "source": [
        "Обучение моделей линейной и логистической регрессии. В качестве метрики качества будем использовать accuracy"
      ],
      "metadata": {
        "id": "q47jKKadCtAW"
      }
    },
    {
      "cell_type": "code",
      "source": [
        "model_linRegr = LinearRegression()\n",
        "model_linRegr.fit(X_train_regr, y_train_regr)\n",
        "\n",
        "model_logRegr = LogisticRegression()\n",
        "model_logRegr.fit(X_train_class, y_train_class)\n"
      ],
      "metadata": {
        "colab": {
          "base_uri": "https://localhost:8080/",
          "height": 80
        },
        "id": "i_y6u5bWVQbW",
        "outputId": "5e01a1ff-f2c0-47df-ba72-9cffd7ac7513"
      },
      "execution_count": 26,
      "outputs": [
        {
          "output_type": "execute_result",
          "data": {
            "text/plain": [
              "LogisticRegression()"
            ],
            "text/html": [
              "<style>#sk-container-id-2 {\n",
              "  /* Definition of color scheme common for light and dark mode */\n",
              "  --sklearn-color-text: black;\n",
              "  --sklearn-color-line: gray;\n",
              "  /* Definition of color scheme for unfitted estimators */\n",
              "  --sklearn-color-unfitted-level-0: #fff5e6;\n",
              "  --sklearn-color-unfitted-level-1: #f6e4d2;\n",
              "  --sklearn-color-unfitted-level-2: #ffe0b3;\n",
              "  --sklearn-color-unfitted-level-3: chocolate;\n",
              "  /* Definition of color scheme for fitted estimators */\n",
              "  --sklearn-color-fitted-level-0: #f0f8ff;\n",
              "  --sklearn-color-fitted-level-1: #d4ebff;\n",
              "  --sklearn-color-fitted-level-2: #b3dbfd;\n",
              "  --sklearn-color-fitted-level-3: cornflowerblue;\n",
              "\n",
              "  /* Specific color for light theme */\n",
              "  --sklearn-color-text-on-default-background: var(--sg-text-color, var(--theme-code-foreground, var(--jp-content-font-color1, black)));\n",
              "  --sklearn-color-background: var(--sg-background-color, var(--theme-background, var(--jp-layout-color0, white)));\n",
              "  --sklearn-color-border-box: var(--sg-text-color, var(--theme-code-foreground, var(--jp-content-font-color1, black)));\n",
              "  --sklearn-color-icon: #696969;\n",
              "\n",
              "  @media (prefers-color-scheme: dark) {\n",
              "    /* Redefinition of color scheme for dark theme */\n",
              "    --sklearn-color-text-on-default-background: var(--sg-text-color, var(--theme-code-foreground, var(--jp-content-font-color1, white)));\n",
              "    --sklearn-color-background: var(--sg-background-color, var(--theme-background, var(--jp-layout-color0, #111)));\n",
              "    --sklearn-color-border-box: var(--sg-text-color, var(--theme-code-foreground, var(--jp-content-font-color1, white)));\n",
              "    --sklearn-color-icon: #878787;\n",
              "  }\n",
              "}\n",
              "\n",
              "#sk-container-id-2 {\n",
              "  color: var(--sklearn-color-text);\n",
              "}\n",
              "\n",
              "#sk-container-id-2 pre {\n",
              "  padding: 0;\n",
              "}\n",
              "\n",
              "#sk-container-id-2 input.sk-hidden--visually {\n",
              "  border: 0;\n",
              "  clip: rect(1px 1px 1px 1px);\n",
              "  clip: rect(1px, 1px, 1px, 1px);\n",
              "  height: 1px;\n",
              "  margin: -1px;\n",
              "  overflow: hidden;\n",
              "  padding: 0;\n",
              "  position: absolute;\n",
              "  width: 1px;\n",
              "}\n",
              "\n",
              "#sk-container-id-2 div.sk-dashed-wrapped {\n",
              "  border: 1px dashed var(--sklearn-color-line);\n",
              "  margin: 0 0.4em 0.5em 0.4em;\n",
              "  box-sizing: border-box;\n",
              "  padding-bottom: 0.4em;\n",
              "  background-color: var(--sklearn-color-background);\n",
              "}\n",
              "\n",
              "#sk-container-id-2 div.sk-container {\n",
              "  /* jupyter's `normalize.less` sets `[hidden] { display: none; }`\n",
              "     but bootstrap.min.css set `[hidden] { display: none !important; }`\n",
              "     so we also need the `!important` here to be able to override the\n",
              "     default hidden behavior on the sphinx rendered scikit-learn.org.\n",
              "     See: https://github.com/scikit-learn/scikit-learn/issues/21755 */\n",
              "  display: inline-block !important;\n",
              "  position: relative;\n",
              "}\n",
              "\n",
              "#sk-container-id-2 div.sk-text-repr-fallback {\n",
              "  display: none;\n",
              "}\n",
              "\n",
              "div.sk-parallel-item,\n",
              "div.sk-serial,\n",
              "div.sk-item {\n",
              "  /* draw centered vertical line to link estimators */\n",
              "  background-image: linear-gradient(var(--sklearn-color-text-on-default-background), var(--sklearn-color-text-on-default-background));\n",
              "  background-size: 2px 100%;\n",
              "  background-repeat: no-repeat;\n",
              "  background-position: center center;\n",
              "}\n",
              "\n",
              "/* Parallel-specific style estimator block */\n",
              "\n",
              "#sk-container-id-2 div.sk-parallel-item::after {\n",
              "  content: \"\";\n",
              "  width: 100%;\n",
              "  border-bottom: 2px solid var(--sklearn-color-text-on-default-background);\n",
              "  flex-grow: 1;\n",
              "}\n",
              "\n",
              "#sk-container-id-2 div.sk-parallel {\n",
              "  display: flex;\n",
              "  align-items: stretch;\n",
              "  justify-content: center;\n",
              "  background-color: var(--sklearn-color-background);\n",
              "  position: relative;\n",
              "}\n",
              "\n",
              "#sk-container-id-2 div.sk-parallel-item {\n",
              "  display: flex;\n",
              "  flex-direction: column;\n",
              "}\n",
              "\n",
              "#sk-container-id-2 div.sk-parallel-item:first-child::after {\n",
              "  align-self: flex-end;\n",
              "  width: 50%;\n",
              "}\n",
              "\n",
              "#sk-container-id-2 div.sk-parallel-item:last-child::after {\n",
              "  align-self: flex-start;\n",
              "  width: 50%;\n",
              "}\n",
              "\n",
              "#sk-container-id-2 div.sk-parallel-item:only-child::after {\n",
              "  width: 0;\n",
              "}\n",
              "\n",
              "/* Serial-specific style estimator block */\n",
              "\n",
              "#sk-container-id-2 div.sk-serial {\n",
              "  display: flex;\n",
              "  flex-direction: column;\n",
              "  align-items: center;\n",
              "  background-color: var(--sklearn-color-background);\n",
              "  padding-right: 1em;\n",
              "  padding-left: 1em;\n",
              "}\n",
              "\n",
              "\n",
              "/* Toggleable style: style used for estimator/Pipeline/ColumnTransformer box that is\n",
              "clickable and can be expanded/collapsed.\n",
              "- Pipeline and ColumnTransformer use this feature and define the default style\n",
              "- Estimators will overwrite some part of the style using the `sk-estimator` class\n",
              "*/\n",
              "\n",
              "/* Pipeline and ColumnTransformer style (default) */\n",
              "\n",
              "#sk-container-id-2 div.sk-toggleable {\n",
              "  /* Default theme specific background. It is overwritten whether we have a\n",
              "  specific estimator or a Pipeline/ColumnTransformer */\n",
              "  background-color: var(--sklearn-color-background);\n",
              "}\n",
              "\n",
              "/* Toggleable label */\n",
              "#sk-container-id-2 label.sk-toggleable__label {\n",
              "  cursor: pointer;\n",
              "  display: block;\n",
              "  width: 100%;\n",
              "  margin-bottom: 0;\n",
              "  padding: 0.5em;\n",
              "  box-sizing: border-box;\n",
              "  text-align: center;\n",
              "}\n",
              "\n",
              "#sk-container-id-2 label.sk-toggleable__label-arrow:before {\n",
              "  /* Arrow on the left of the label */\n",
              "  content: \"▸\";\n",
              "  float: left;\n",
              "  margin-right: 0.25em;\n",
              "  color: var(--sklearn-color-icon);\n",
              "}\n",
              "\n",
              "#sk-container-id-2 label.sk-toggleable__label-arrow:hover:before {\n",
              "  color: var(--sklearn-color-text);\n",
              "}\n",
              "\n",
              "/* Toggleable content - dropdown */\n",
              "\n",
              "#sk-container-id-2 div.sk-toggleable__content {\n",
              "  max-height: 0;\n",
              "  max-width: 0;\n",
              "  overflow: hidden;\n",
              "  text-align: left;\n",
              "  /* unfitted */\n",
              "  background-color: var(--sklearn-color-unfitted-level-0);\n",
              "}\n",
              "\n",
              "#sk-container-id-2 div.sk-toggleable__content.fitted {\n",
              "  /* fitted */\n",
              "  background-color: var(--sklearn-color-fitted-level-0);\n",
              "}\n",
              "\n",
              "#sk-container-id-2 div.sk-toggleable__content pre {\n",
              "  margin: 0.2em;\n",
              "  border-radius: 0.25em;\n",
              "  color: var(--sklearn-color-text);\n",
              "  /* unfitted */\n",
              "  background-color: var(--sklearn-color-unfitted-level-0);\n",
              "}\n",
              "\n",
              "#sk-container-id-2 div.sk-toggleable__content.fitted pre {\n",
              "  /* unfitted */\n",
              "  background-color: var(--sklearn-color-fitted-level-0);\n",
              "}\n",
              "\n",
              "#sk-container-id-2 input.sk-toggleable__control:checked~div.sk-toggleable__content {\n",
              "  /* Expand drop-down */\n",
              "  max-height: 200px;\n",
              "  max-width: 100%;\n",
              "  overflow: auto;\n",
              "}\n",
              "\n",
              "#sk-container-id-2 input.sk-toggleable__control:checked~label.sk-toggleable__label-arrow:before {\n",
              "  content: \"▾\";\n",
              "}\n",
              "\n",
              "/* Pipeline/ColumnTransformer-specific style */\n",
              "\n",
              "#sk-container-id-2 div.sk-label input.sk-toggleable__control:checked~label.sk-toggleable__label {\n",
              "  color: var(--sklearn-color-text);\n",
              "  background-color: var(--sklearn-color-unfitted-level-2);\n",
              "}\n",
              "\n",
              "#sk-container-id-2 div.sk-label.fitted input.sk-toggleable__control:checked~label.sk-toggleable__label {\n",
              "  background-color: var(--sklearn-color-fitted-level-2);\n",
              "}\n",
              "\n",
              "/* Estimator-specific style */\n",
              "\n",
              "/* Colorize estimator box */\n",
              "#sk-container-id-2 div.sk-estimator input.sk-toggleable__control:checked~label.sk-toggleable__label {\n",
              "  /* unfitted */\n",
              "  background-color: var(--sklearn-color-unfitted-level-2);\n",
              "}\n",
              "\n",
              "#sk-container-id-2 div.sk-estimator.fitted input.sk-toggleable__control:checked~label.sk-toggleable__label {\n",
              "  /* fitted */\n",
              "  background-color: var(--sklearn-color-fitted-level-2);\n",
              "}\n",
              "\n",
              "#sk-container-id-2 div.sk-label label.sk-toggleable__label,\n",
              "#sk-container-id-2 div.sk-label label {\n",
              "  /* The background is the default theme color */\n",
              "  color: var(--sklearn-color-text-on-default-background);\n",
              "}\n",
              "\n",
              "/* On hover, darken the color of the background */\n",
              "#sk-container-id-2 div.sk-label:hover label.sk-toggleable__label {\n",
              "  color: var(--sklearn-color-text);\n",
              "  background-color: var(--sklearn-color-unfitted-level-2);\n",
              "}\n",
              "\n",
              "/* Label box, darken color on hover, fitted */\n",
              "#sk-container-id-2 div.sk-label.fitted:hover label.sk-toggleable__label.fitted {\n",
              "  color: var(--sklearn-color-text);\n",
              "  background-color: var(--sklearn-color-fitted-level-2);\n",
              "}\n",
              "\n",
              "/* Estimator label */\n",
              "\n",
              "#sk-container-id-2 div.sk-label label {\n",
              "  font-family: monospace;\n",
              "  font-weight: bold;\n",
              "  display: inline-block;\n",
              "  line-height: 1.2em;\n",
              "}\n",
              "\n",
              "#sk-container-id-2 div.sk-label-container {\n",
              "  text-align: center;\n",
              "}\n",
              "\n",
              "/* Estimator-specific */\n",
              "#sk-container-id-2 div.sk-estimator {\n",
              "  font-family: monospace;\n",
              "  border: 1px dotted var(--sklearn-color-border-box);\n",
              "  border-radius: 0.25em;\n",
              "  box-sizing: border-box;\n",
              "  margin-bottom: 0.5em;\n",
              "  /* unfitted */\n",
              "  background-color: var(--sklearn-color-unfitted-level-0);\n",
              "}\n",
              "\n",
              "#sk-container-id-2 div.sk-estimator.fitted {\n",
              "  /* fitted */\n",
              "  background-color: var(--sklearn-color-fitted-level-0);\n",
              "}\n",
              "\n",
              "/* on hover */\n",
              "#sk-container-id-2 div.sk-estimator:hover {\n",
              "  /* unfitted */\n",
              "  background-color: var(--sklearn-color-unfitted-level-2);\n",
              "}\n",
              "\n",
              "#sk-container-id-2 div.sk-estimator.fitted:hover {\n",
              "  /* fitted */\n",
              "  background-color: var(--sklearn-color-fitted-level-2);\n",
              "}\n",
              "\n",
              "/* Specification for estimator info (e.g. \"i\" and \"?\") */\n",
              "\n",
              "/* Common style for \"i\" and \"?\" */\n",
              "\n",
              ".sk-estimator-doc-link,\n",
              "a:link.sk-estimator-doc-link,\n",
              "a:visited.sk-estimator-doc-link {\n",
              "  float: right;\n",
              "  font-size: smaller;\n",
              "  line-height: 1em;\n",
              "  font-family: monospace;\n",
              "  background-color: var(--sklearn-color-background);\n",
              "  border-radius: 1em;\n",
              "  height: 1em;\n",
              "  width: 1em;\n",
              "  text-decoration: none !important;\n",
              "  margin-left: 1ex;\n",
              "  /* unfitted */\n",
              "  border: var(--sklearn-color-unfitted-level-1) 1pt solid;\n",
              "  color: var(--sklearn-color-unfitted-level-1);\n",
              "}\n",
              "\n",
              ".sk-estimator-doc-link.fitted,\n",
              "a:link.sk-estimator-doc-link.fitted,\n",
              "a:visited.sk-estimator-doc-link.fitted {\n",
              "  /* fitted */\n",
              "  border: var(--sklearn-color-fitted-level-1) 1pt solid;\n",
              "  color: var(--sklearn-color-fitted-level-1);\n",
              "}\n",
              "\n",
              "/* On hover */\n",
              "div.sk-estimator:hover .sk-estimator-doc-link:hover,\n",
              ".sk-estimator-doc-link:hover,\n",
              "div.sk-label-container:hover .sk-estimator-doc-link:hover,\n",
              ".sk-estimator-doc-link:hover {\n",
              "  /* unfitted */\n",
              "  background-color: var(--sklearn-color-unfitted-level-3);\n",
              "  color: var(--sklearn-color-background);\n",
              "  text-decoration: none;\n",
              "}\n",
              "\n",
              "div.sk-estimator.fitted:hover .sk-estimator-doc-link.fitted:hover,\n",
              ".sk-estimator-doc-link.fitted:hover,\n",
              "div.sk-label-container:hover .sk-estimator-doc-link.fitted:hover,\n",
              ".sk-estimator-doc-link.fitted:hover {\n",
              "  /* fitted */\n",
              "  background-color: var(--sklearn-color-fitted-level-3);\n",
              "  color: var(--sklearn-color-background);\n",
              "  text-decoration: none;\n",
              "}\n",
              "\n",
              "/* Span, style for the box shown on hovering the info icon */\n",
              ".sk-estimator-doc-link span {\n",
              "  display: none;\n",
              "  z-index: 9999;\n",
              "  position: relative;\n",
              "  font-weight: normal;\n",
              "  right: .2ex;\n",
              "  padding: .5ex;\n",
              "  margin: .5ex;\n",
              "  width: min-content;\n",
              "  min-width: 20ex;\n",
              "  max-width: 50ex;\n",
              "  color: var(--sklearn-color-text);\n",
              "  box-shadow: 2pt 2pt 4pt #999;\n",
              "  /* unfitted */\n",
              "  background: var(--sklearn-color-unfitted-level-0);\n",
              "  border: .5pt solid var(--sklearn-color-unfitted-level-3);\n",
              "}\n",
              "\n",
              ".sk-estimator-doc-link.fitted span {\n",
              "  /* fitted */\n",
              "  background: var(--sklearn-color-fitted-level-0);\n",
              "  border: var(--sklearn-color-fitted-level-3);\n",
              "}\n",
              "\n",
              ".sk-estimator-doc-link:hover span {\n",
              "  display: block;\n",
              "}\n",
              "\n",
              "/* \"?\"-specific style due to the `<a>` HTML tag */\n",
              "\n",
              "#sk-container-id-2 a.estimator_doc_link {\n",
              "  float: right;\n",
              "  font-size: 1rem;\n",
              "  line-height: 1em;\n",
              "  font-family: monospace;\n",
              "  background-color: var(--sklearn-color-background);\n",
              "  border-radius: 1rem;\n",
              "  height: 1rem;\n",
              "  width: 1rem;\n",
              "  text-decoration: none;\n",
              "  /* unfitted */\n",
              "  color: var(--sklearn-color-unfitted-level-1);\n",
              "  border: var(--sklearn-color-unfitted-level-1) 1pt solid;\n",
              "}\n",
              "\n",
              "#sk-container-id-2 a.estimator_doc_link.fitted {\n",
              "  /* fitted */\n",
              "  border: var(--sklearn-color-fitted-level-1) 1pt solid;\n",
              "  color: var(--sklearn-color-fitted-level-1);\n",
              "}\n",
              "\n",
              "/* On hover */\n",
              "#sk-container-id-2 a.estimator_doc_link:hover {\n",
              "  /* unfitted */\n",
              "  background-color: var(--sklearn-color-unfitted-level-3);\n",
              "  color: var(--sklearn-color-background);\n",
              "  text-decoration: none;\n",
              "}\n",
              "\n",
              "#sk-container-id-2 a.estimator_doc_link.fitted:hover {\n",
              "  /* fitted */\n",
              "  background-color: var(--sklearn-color-fitted-level-3);\n",
              "}\n",
              "</style><div id=\"sk-container-id-2\" class=\"sk-top-container\"><div class=\"sk-text-repr-fallback\"><pre>LogisticRegression()</pre><b>In a Jupyter environment, please rerun this cell to show the HTML representation or trust the notebook. <br />On GitHub, the HTML representation is unable to render, please try loading this page with nbviewer.org.</b></div><div class=\"sk-container\" hidden><div class=\"sk-item\"><div class=\"sk-estimator fitted sk-toggleable\"><input class=\"sk-toggleable__control sk-hidden--visually\" id=\"sk-estimator-id-2\" type=\"checkbox\" checked><label for=\"sk-estimator-id-2\" class=\"sk-toggleable__label fitted sk-toggleable__label-arrow fitted\">&nbsp;&nbsp;LogisticRegression<a class=\"sk-estimator-doc-link fitted\" rel=\"noreferrer\" target=\"_blank\" href=\"https://scikit-learn.org/1.5/modules/generated/sklearn.linear_model.LogisticRegression.html\">?<span>Documentation for LogisticRegression</span></a><span class=\"sk-estimator-doc-link fitted\">i<span>Fitted</span></span></label><div class=\"sk-toggleable__content fitted\"><pre>LogisticRegression()</pre></div> </div></div></div></div>"
            ]
          },
          "metadata": {},
          "execution_count": 26
        }
      ]
    },
    {
      "cell_type": "code",
      "source": [
        "predicted_class = model_logRegr.predict(X_test_class)\n",
        "print(\"classif. accuracy: \",metrics.accuracy_score(y_test_class,predicted_class))"
      ],
      "metadata": {
        "colab": {
          "base_uri": "https://localhost:8080/"
        },
        "id": "3Ymf2PEciDS3",
        "outputId": "21a04339-af45-42a7-b5cf-6e915c7a7763"
      },
      "execution_count": 28,
      "outputs": [
        {
          "output_type": "stream",
          "name": "stdout",
          "text": [
            "classif. accuracy:  0.994\n"
          ]
        }
      ]
    },
    {
      "cell_type": "markdown",
      "source": [
        "Получаем достаточно высокие значения accuracy - 0.994."
      ],
      "metadata": {
        "id": "4p3jl5fdDDqO"
      }
    },
    {
      "cell_type": "markdown",
      "source": [
        "В качестве метрик качества модели линейной регрессии используем MSE и R2 scrore"
      ],
      "metadata": {
        "id": "7z2cWYuqgNu_"
      }
    },
    {
      "cell_type": "code",
      "source": [
        "predicted_regr = model_linRegr.predict(X_test_regr)\n",
        "print(\"MSE: \",metrics.mean_squared_error(y_test_regr, predicted_regr))\n",
        "print(\"R2: \",metrics.r2_score(y_test_regr, predicted_regr))"
      ],
      "metadata": {
        "colab": {
          "base_uri": "https://localhost:8080/"
        },
        "id": "vovdb0e12uIU",
        "outputId": "f3eb6880-b290-4ebe-e364-0d26535b7785"
      },
      "execution_count": 30,
      "outputs": [
        {
          "output_type": "stream",
          "name": "stdout",
          "text": [
            "MSE:  39922479.35435013\n",
            "R2:  0.7398864322395977\n"
          ]
        }
      ]
    },
    {
      "cell_type": "markdown",
      "source": [
        "Получаем неплохие результаты - R2=0.74. Есть потенциал для улучшния. Построим графики для обоих задач, чтобы визуализировать ошибки"
      ],
      "metadata": {
        "id": "IKgh_LsegcjQ"
      }
    },
    {
      "cell_type": "code",
      "source": [
        "import seaborn as sns\n",
        "sns.kdeplot(y_test_regr, label='Actual', color='blue', fill=True)\n",
        "sns.kdeplot(predicted_regr, label='Predicted', color='red', fill=True)\n",
        "plt.xlabel('Insurance price')\n",
        "plt.ylabel('Density')\n",
        "plt.legend()"
      ],
      "metadata": {
        "colab": {
          "base_uri": "https://localhost:8080/",
          "height": 482
        },
        "id": "rV6S7zOz4tic",
        "outputId": "e70a600b-75b3-442f-e7fc-d9eae41a4862"
      },
      "execution_count": 31,
      "outputs": [
        {
          "output_type": "execute_result",
          "data": {
            "text/plain": [
              "<matplotlib.legend.Legend at 0x7fb910779b70>"
            ]
          },
          "metadata": {},
          "execution_count": 31
        },
        {
          "output_type": "display_data",
          "data": {
            "text/plain": [
              "<Figure size 640x480 with 1 Axes>"
            ],
            "image/png": "[encoded data removed]"
          },
          "metadata": {}
        }
      ]
    },
    {
      "cell_type": "code",
      "source": [
        "import seaborn as sns\n",
        "sns.kdeplot(y_test_class, label='Actual', color='blue', fill=True)\n",
        "sns.kdeplot(predicted_class, label='Predicted', color='red', fill=True)\n",
        "plt.xlabel('Loan approved')\n",
        "plt.ylabel('Density')\n",
        "plt.legend()"
      ],
      "metadata": {
        "colab": {
          "base_uri": "https://localhost:8080/",
          "height": 466
        },
        "id": "TPmdxzBK40j7",
        "outputId": "866b2a9e-5dd9-45d9-f4bf-edd275dc618c"
      },
      "execution_count": 12,
      "outputs": [
        {
          "output_type": "execute_result",
          "data": {
            "text/plain": [
              "<matplotlib.legend.Legend at 0x7fb91271de70>"
            ]
          },
          "metadata": {},
          "execution_count": 12
        },
        {
          "output_type": "display_data",
          "data": {
            "text/plain": [
              "<Figure size 640x480 with 1 Axes>"
            ],
            "image/png": "[encoded data removed]"
          },
          "metadata": {}
        }
      ]
    },
    {
      "cell_type": "markdown",
      "source": [
        "По итогу получаем очень хорошие значения для логистической регрессии и вполне неплохие для линейной регрессии."
      ],
      "metadata": {
        "id": "nGHj_3wL5CcM"
      }
    },
    {
      "cell_type": "markdown",
      "source": [
        "# Улучшение бейзлайна задачи классификации"
      ],
      "metadata": {
        "id": "TXWMOPdi5Gzk"
      }
    },
    {
      "cell_type": "markdown",
      "source": [
        "Гипотезы для улучшения бейзлайна логистическйо классификации: \\\n",
        "- Обработка дисбаланса классов попробуем использовать SMOTE, чтобы улучшить это\n",
        "- Попробуем использовать полиномиальные признаки\n",
        "- Используем отбор признаков (Feature Selection), т.к. удаление нерелевантных  признаков может повысить точность\n",
        "- Используем GridSearchCV для поиска лучших гиперпараметров"
      ],
      "metadata": {
        "id": "9Kn2PP2N76MF"
      }
    },
    {
      "cell_type": "code",
      "source": [
        "from imblearn.over_sampling import SMOTE\n",
        "from sklearn.preprocessing import StandardScaler, LabelEncoder, PolynomialFeatures\n",
        "from sklearn.metrics import accuracy_score, confusion_matrix, f1_score\n",
        "from imblearn.over_sampling import SMOTE\n",
        "from sklearn.feature_selection import SelectKBest, f_classif\n",
        "\n",
        "X = data_class_cleaned.drop(columns=['LoanApproved'], errors='ignore')\n",
        "y = data_class_cleaned['LoanApproved']\n",
        "\n",
        "\n",
        "smote = SMOTE(random_state=42)\n",
        "X, y = smote.fit_resample(X, y)\n",
        "\n",
        "# тестовая и обуч. выборки\n",
        "X_train_class, X_test_class, y_train_class, y_test_class = train_test_split(X, y, test_size=0.2, random_state=42)\n",
        "\n",
        "#нормализация\n",
        "scaler = StandardScaler()\n",
        "X_train_class = scaler.fit_transform(X_train_class)\n",
        "X_test_class = scaler.transform(X_test_class)\n",
        "# полиномиальные признаки\n",
        "poly = PolynomialFeatures(degree=2, interaction_only=True, include_bias=False)\n",
        "X_train_poly = poly.fit_transform(X_train_class)\n",
        "X_test_poly = poly.transform(X_test_class)\n",
        "\n",
        "selector = SelectKBest(f_classif, k=10) # выберем лучшие признаки\n",
        "X_train_selected = selector.fit_transform(X_train_poly, y_train_class)\n",
        "X_test_selected = selector.transform(X_test_poly)\n",
        "\n",
        "param_grid = {'C': [0.01, 0.1, 1, 10, 100], 'penalty': ['l2'], 'solver': ['lbfgs']}\n",
        "grid = GridSearchCV(LogisticRegression(max_iter=1000), param_grid, cv=5, scoring='f1_weighted')\n",
        "grid.fit(X_train_selected, y_train_class)\n",
        "\n",
        "best_model = grid.best_estimator_\n",
        "y_pred = best_model.predict(X_test_selected)\n",
        "\n",
        "print(\"best params:\", grid.best_params_)\n",
        "print(\"classif. accuracy:\", accuracy_score(y_test_class, y_pred))"
      ],
      "metadata": {
        "colab": {
          "base_uri": "https://localhost:8080/"
        },
        "id": "7fhSzl_UVUru",
        "outputId": "62372e51-23e0-4563-a87b-4b1e1cd9fd3c"
      },
      "execution_count": 33,
      "outputs": [
        {
          "output_type": "stream",
          "name": "stdout",
          "text": [
            "best params: {'C': 10, 'penalty': 'l2', 'solver': 'lbfgs'}\n",
            "classif. accuracy: 0.9842312746386334\n"
          ]
        }
      ]
    },
    {
      "cell_type": "markdown",
      "source": [
        "Гипотезы не улучшили и без того очень высокий уровень точности в 99.4%."
      ],
      "metadata": {
        "id": "Zm78q8TVFSXX"
      }
    },
    {
      "cell_type": "code",
      "source": [],
      "metadata": {
        "id": "BJ1h2UZhVNk3"
      },
      "execution_count": null,
      "outputs": []
    },
    {
      "cell_type": "markdown",
      "source": [
        "# Улучшение бейзлайна задачи регрессии\n",
        "Теперь перейдем к задаче регрессии. Будем предсказывать charges"
      ],
      "metadata": {
        "id": "XA_d8OrFMa1F"
      }
    },
    {
      "cell_type": "markdown",
      "source": [
        "Гипотезы по улучшению: \\\n",
        "- Добавление полиномиальных признаков\n",
        "- Отбор лучших признаков\n",
        "- Гиперпараметрическая оптимизация: Регуляризация для повышения устойчивости модели\n",
        "\n",
        "Добавим полиномиальные признаки, выполним отбор признаков.\n",
        "Применим Ridge и Lasso регрессию для регуляризации и сравним их с бйзлайном"
      ],
      "metadata": {
        "id": "e1cqhicOMso3"
      }
    },
    {
      "cell_type": "code",
      "source": [
        "from sklearn.feature_selection import SelectKBest, f_regression\n",
        "from sklearn.linear_model import Ridge, Lasso\n",
        "from sklearn.metrics import mean_squared_error, r2_score\n",
        "\n",
        "poly = PolynomialFeatures(degree=2, interaction_only=True, include_bias=False)\n",
        "X_train_poly = poly.fit_transform(X_train_regr)\n",
        "X_test_poly = poly.transform(X_test_regr)\n",
        "\n",
        "#как и в примере  выше, отберем лучшие признаки\n",
        "selector = SelectKBest(f_regression, k=10)\n",
        "X_train_selected = selector.fit_transform(X_train_poly, y_train_regr)\n",
        "X_test_selected = selector.transform(X_test_poly)\n",
        "\n",
        "ridge = Ridge()\n",
        "ridge_params = {'alpha': [0.1, 1, 10, 100]}\n",
        "ridge_grid = GridSearchCV(ridge, ridge_params, cv=5, scoring='r2')\n",
        "ridge_grid.fit(X_train_selected, y_train_regr)\n",
        "ridge_best = ridge_grid.best_estimator_\n",
        "ridge_pred = ridge_best.predict(X_test_selected)\n",
        "print(\"Ridge regr:\")\n",
        "print(\"best alpha:\", ridge_grid.best_params_['alpha'])\n",
        "print(\"MSE:\", mean_squared_error(y_test_regr, ridge_pred))\n",
        "print(\"R2:\", r2_score(y_test_regr, ridge_pred))\n",
        "\n",
        "lasso = Lasso(max_iter=10000)\n",
        "lasso_params = {'alpha': [0.01, 0.1, 1, 10]}\n",
        "lasso_grid = GridSearchCV(lasso, lasso_params, cv=5, scoring='r2')\n",
        "lasso_grid.fit(X_train_selected, y_train_regr)\n",
        "lasso_best = lasso_grid.best_estimator_\n",
        "lasso_pred = lasso_best.predict(X_test_selected)\n",
        "print(\"\\nLasso regr\")\n",
        "print(\"best alpha:\", lasso_grid.best_params_['alpha'])\n",
        "print(\"MSE: \", mean_squared_error(y_test_regr, lasso_pred))\n",
        "print(\"R2:\", r2_score(y_test_regr, lasso_pred))\n",
        "\n",
        "#посмотрим на результаты\n",
        "plt.figure(figsize=(10, 6))\n",
        "sns.kdeplot(y_test_regr, label='Actual', color='blue', fill=True)\n",
        "sns.kdeplot(predicted_regr, label='Baseline', color='red', fill=True)\n",
        "sns.kdeplot(ridge_pred, label='Ridge', color='green', fill=True)\n",
        "sns.kdeplot(lasso_pred, label='Lasso', color='purple', fill=True)\n",
        "plt.xlabel('Charges')\n",
        "plt.ylabel('Density')\n",
        "plt.legend()\n",
        "plt.show()"
      ],
      "metadata": {
        "colab": {
          "base_uri": "https://localhost:8080/",
          "height": 713
        },
        "id": "jiudd6hxMHZf",
        "outputId": "50b3ad6c-4192-4173-8b3d-e37c0dffdc6b"
      },
      "execution_count": 36,
      "outputs": [
        {
          "output_type": "stream",
          "name": "stdout",
          "text": [
            "Ridge regr:\n",
            "best alpha: 0.1\n",
            "MSE: 27152147.829411343\n",
            "R2: 0.8230910965829965\n",
            "\n",
            "Lasso regr\n",
            "best alpha: 1\n",
            "MSE:  27151147.678417318\n",
            "R2: 0.8230976130330657\n"
          ]
        },
        {
          "output_type": "display_data",
          "data": {
            "text/plain": [
              "<Figure size 1000x600 with 1 Axes>"
            ],
            "image/png": "[encoded data removed]"
          },
          "metadata": {}
        }
      ]
    },
    {
      "cell_type": "markdown",
      "source": [
        "Видно, что улучшения бейзлайна улучшили показатели R2 и MSE. Например, R2 улучшился на 11%, что является хорошим результатом."
      ],
      "metadata": {
        "id": "QxjhA-kHIJc0"
      }
    },
    {
      "cell_type": "markdown",
      "source": [
        "# Самостоятельная имплементация логистической регрессии"
      ],
      "metadata": {
        "id": "X7xPQe6hNGfH"
      }
    },
    {
      "cell_type": "markdown",
      "source": [
        "Определим класс регрессора со всеми необходимыми функциями:"
      ],
      "metadata": {
        "id": "b2qyh0q9JE1E"
      }
    },
    {
      "cell_type": "code",
      "source": [
        "import numpy as np\n",
        "from sklearn.metrics import accuracy_score, f1_score, confusion_matrix\n",
        "\n",
        "class MyLogisticRegression:\n",
        "    def __init__(self, learning_rate=0.01, max_iter=1000):\n",
        "        self.learning_rate = learning_rate\n",
        "        self.max_iter = max_iter\n",
        "        self.theta = None\n",
        "\n",
        "    def sigmoid(self, z):\n",
        "        return 1 / (1 + np.exp(-z))\n",
        "\n",
        "    def cost_function(self, X, y):\n",
        "        m = len(y)\n",
        "        h = self.sigmoid(np.dot(X, self.theta))\n",
        "        cost = (-1 / m) * (np.dot(y, np.log(h)) + np.dot((1 - y), np.log(1 - h)))\n",
        "        return cost\n",
        "\n",
        "    def fit(self, X, y):\n",
        "        m, n = X.shape\n",
        "        self.theta = np.zeros(n)\n",
        "        for i in range(self.max_iter):\n",
        "            h = self.sigmoid(np.dot(X, self.theta))\n",
        "            gradient = (1 / m) * np.dot(X.T, (h - y))\n",
        "            self.theta -= self.learning_rate * gradient\n",
        "\n",
        "    def predict(self, X):\n",
        "        probabilities = self.sigmoid(np.dot(X, self.theta))\n",
        "        return (probabilities >= 0.5).astype(int)"
      ],
      "metadata": {
        "id": "T0ee1e9HNLfv"
      },
      "execution_count": 37,
      "outputs": []
    },
    {
      "cell_type": "markdown",
      "source": [
        "Проведем все те же действия - обучим бейзлайн"
      ],
      "metadata": {
        "id": "GUmQJsBVowyh"
      }
    },
    {
      "cell_type": "code",
      "source": [
        "file_path = \"loan.csv\"\n",
        "data_class = pd.read_csv(file_path)\n",
        "\n",
        "data_class_cleaned = data_class.drop(columns=['ApplicationDate'], errors='ignore')\n",
        "\n",
        "imputer = SimpleImputer(strategy='mean')\n",
        "numerical_columns = data_class_cleaned.select_dtypes(include=['int64', 'float64']).columns\n",
        "data_class_cleaned[numerical_columns] = imputer.fit_transform(data_class_cleaned[numerical_columns])\n",
        "\n",
        "categorical_columns = data_class_cleaned.select_dtypes(include=['object']).columns\n",
        "label_encoders = {}\n",
        "for column in categorical_columns:\n",
        "    le = LabelEncoder()\n",
        "    data_class_cleaned[column] = le.fit_transform(data_class_cleaned[column].astype(str))\n",
        "    label_encoders[column] = le\n",
        "\n",
        "X = data_class_cleaned.drop(columns=['LoanApproved'], errors='ignore')\n",
        "y = data_class_cleaned['LoanApproved']\n",
        "\n",
        "scaler = StandardScaler()\n",
        "X = scaler.fit_transform(X)\n",
        "\n",
        "X_train, X_test, y_train, y_test = train_test_split(X, y, test_size=0.2, random_state=42)\n",
        "\n",
        "from sklearn.linear_model import LogisticRegression\n",
        "sklearn_model = LogisticRegression(max_iter=1000)\n",
        "sklearn_model.fit(X_train, y_train)\n",
        "sklearn_pred = sklearn_model.predict(X_test)\n",
        "\n",
        "print(\"Модель из sklearn:\")\n",
        "print(\"accuracy:\", accuracy_score(y_test, sklearn_pred))\n",
        "\n",
        "my_model = MyLogisticRegression(learning_rate=0.1, max_iter=1000)\n",
        "my_model.fit(X_train, y_train)\n",
        "my_pred = my_model.predict(X_test)\n",
        "\n",
        "print(\"\\nСобственная модель:\")\n",
        "print(\"accuracy:\", accuracy_score(y_test, my_pred))\n"
      ],
      "metadata": {
        "colab": {
          "base_uri": "https://localhost:8080/"
        },
        "id": "X0t8-cb_NRHn",
        "outputId": "d2eb4915-294f-418f-8415-bded2d7d790f"
      },
      "execution_count": 38,
      "outputs": [
        {
          "output_type": "stream",
          "name": "stdout",
          "text": [
            "Модель из sklearn:\n",
            "accuracy: 0.994\n",
            "\n",
            "Собственная модель:\n",
            "accuracy: 0.92725\n"
          ]
        }
      ]
    },
    {
      "cell_type": "markdown",
      "source": [
        "Видно, что собственная реализация модели хоть и имеет высокий уровень accuracy, но он все же меньше, чем у библиотечной. Применим те же гипотезы по улучшнению качества модели."
      ],
      "metadata": {
        "id": "xfiLefJUqKjS"
      }
    },
    {
      "cell_type": "code",
      "source": [
        "from imblearn.over_sampling import SMOTE\n",
        "from sklearn.feature_selection import SelectKBest, f_classif\n",
        "from sklearn.preprocessing import PolynomialFeatures\n",
        "import matplotlib.pyplot as plt\n",
        "\n",
        "smote = SMOTE(random_state=42)\n",
        "X_smote, y_smote = smote.fit_resample(X, y)\n",
        "\n",
        "X_train, X_test, y_train, y_test = train_test_split(X_smote, y_smote, test_size=0.2, random_state=42)\n",
        "\n",
        "poly = PolynomialFeatures(degree=2, interaction_only=True, include_bias=False)\n",
        "X_train_poly = poly.fit_transform(X_train)\n",
        "X_test_poly = poly.transform(X_test)\n",
        "\n",
        "selector = SelectKBest(f_classif, k=10)\n",
        "X_train_selected = selector.fit_transform(X_train_poly, y_train)\n",
        "X_test_selected = selector.transform(X_test_poly)\n",
        "\n",
        "my_model = MyLogisticRegression(learning_rate=0.1, max_iter=1000)\n",
        "my_model.fit(X_train_selected, y_train)\n",
        "my_pred = my_model.predict(X_test_selected)\n",
        "\n",
        "print(\"Улучшенная собственная модель:\")\n",
        "print(\"accuracy:\", accuracy_score(y_test, my_pred))\n",
        "\n",
        "sklearn_model = LogisticRegression(max_iter=1000)\n",
        "sklearn_model.fit(X_train_selected, y_train)\n",
        "sklearn_pred = sklearn_model.predict(X_test_selected)\n",
        "\n",
        "print(\"\\nУлучшенная библиотечная модель:\")\n",
        "print(\"accuracy:\", accuracy_score(y_test, sklearn_pred))\n",
        "\n",
        "plt.figure(figsize=(10, 6))\n",
        "sns.kdeplot(y_test, label='Actual', color='blue', fill=True)\n",
        "sns.kdeplot(my_pred, label='my model', color='red', fill=True)\n",
        "sns.kdeplot(sklearn_pred, label='sklearn model', color='green', fill=True)\n",
        "plt.xlabel('Loan Approval')\n",
        "plt.ylabel('Density')\n",
        "plt.legend()\n",
        "plt.show()\n"
      ],
      "metadata": {
        "colab": {
          "base_uri": "https://localhost:8080/",
          "height": 629
        },
        "id": "Lz1BBsD8Fpud",
        "outputId": "b85314a6-7950-4396-dd7c-e04c3ffea015"
      },
      "execution_count": 39,
      "outputs": [
        {
          "output_type": "stream",
          "name": "stdout",
          "text": [
            "Улучшенная собственная модель:\n",
            "accuracy: 0.9395532194480947\n",
            "\n",
            "Улучшенная библиотечная модель:\n",
            "accuracy: 0.9837385019710907\n"
          ]
        },
        {
          "output_type": "display_data",
          "data": {
            "text/plain": [
              "<Figure size 1000x600 with 1 Axes>"
            ],
            "image/png": "[encoded data removed]"
          },
          "metadata": {}
        }
      ]
    },
    {
      "cell_type": "markdown",
      "source": [
        "Видим, что собственная реализация все же не проявляет ту же точность, что и модель sklearn."
      ],
      "metadata": {
        "id": "P1dNX6RYr51h"
      }
    },
    {
      "cell_type": "markdown",
      "source": [
        "# Самостоятельная имплементация линейной регрессии:"
      ],
      "metadata": {
        "id": "R7-HT5QYQD6A"
      }
    },
    {
      "cell_type": "markdown",
      "source": [
        "Перейдем к самостоятельной имплементации классификации. Опишем класс, повторим действия по обучению"
      ],
      "metadata": {
        "id": "VgNW3YSOK3DT"
      }
    },
    {
      "cell_type": "code",
      "source": [
        "import numpy as np\n",
        "from sklearn.metrics import mean_squared_error, r2_score\n",
        "import matplotlib.pyplot as plt\n",
        "from sklearn.model_selection import train_test_split\n",
        "from sklearn.preprocessing import PolynomialFeatures, StandardScaler\n",
        "from sklearn.feature_selection import SelectKBest, f_regression\n",
        "from sklearn.linear_model import LinearRegression\n",
        "from sklearn.model_selection import GridSearchCV\n",
        "\n",
        "class MyLinearRegression:\n",
        "    def __init__(self, lr, max_iter):\n",
        "        self.coef = None\n",
        "        self.itr = None\n",
        "    def fit(self, X, y):\n",
        "        x = np.c_[np.ones((X.shape[0], 1)), X]\n",
        "        theta = np.linalg.inv(x.T.dot(x)).dot(x.T).dot(y)\n",
        "        self.itr = theta[0]\n",
        "        self.coef = theta[1:]\n",
        "    def predict(self, X):\n",
        "        return np.dot(X, self.coef) + self.itr\n",
        "\n",
        "\n",
        "file_path2 = \"medical_insurance.csv\"\n",
        "data_regr = pd.read_csv(file_path2)\n",
        "\n",
        "categorical_columns = data_regr.select_dtypes(include=['object']).columns\n",
        "label_encoders = {}\n",
        "for column in categorical_columns:\n",
        "    le = LabelEncoder()\n",
        "    data_regr[column] = le.fit_transform(data_regr[column].astype(str))\n",
        "    label_encoders[column] = le\n",
        "\n",
        "X = data_regr.drop('charges', axis=1)\n",
        "y = data_regr['charges']\n",
        "\n",
        "scaler = StandardScaler()\n",
        "X = scaler.fit_transform(X)\n",
        "\n",
        "X_train, X_test, y_train, y_test = train_test_split(X, y, test_size=0.2, random_state=42)\n",
        "\n",
        "my_model = MyLinearRegression(lr=0.01, max_iter=1000)\n",
        "my_model.fit(X_train, y_train)\n",
        "y_pred = my_model.predict(X_test)\n",
        "\n",
        "print(\"MSE = \", mean_squared_error(y_test, y_pred))\n",
        "print(\"R2 = \", r2_score(y_test, y_pred))\n"
      ],
      "metadata": {
        "colab": {
          "base_uri": "https://localhost:8080/"
        },
        "id": "W_5FMNbh9WQ1",
        "outputId": "29aaacb1-39da-4c33-ab08-06d1d0d284a9"
      },
      "execution_count": 51,
      "outputs": [
        {
          "output_type": "stream",
          "name": "stdout",
          "text": [
            "MSE =  39922479.35435013\n",
            "R2 =  0.7398864322395977\n"
          ]
        }
      ]
    },
    {
      "cell_type": "markdown",
      "source": [
        "Видим R2 0.739, что вполне неплохо. Попробуем улучшить ситуацию. Удалим выбросы и применим остальные гипотезы"
      ],
      "metadata": {
        "id": "YwKVHr_RuC4C"
      }
    },
    {
      "cell_type": "code",
      "source": [
        "Q1 = np.percentile(y, 25)\n",
        "Q3 = np.percentile(y, 75)\n",
        "IQR = Q3 - Q1\n",
        "lb = Q1 - 1.5 * IQR\n",
        "ub = Q3 + 1.5 * IQR\n",
        "mask = (y >= lb) & (y <= ub)\n",
        "X_cleaned, y_cleaned = X[mask], y[mask]\n",
        "\n",
        "X_train, X_test, y_train, y_test = train_test_split(X_cleaned, y_cleaned, test_size=0.2, random_state=42)\n",
        "\n",
        "poly = PolynomialFeatures(degree=2, interaction_only=True, include_bias=False)\n",
        "X_train_poly = poly.fit_transform(X_train)\n",
        "X_test_poly = poly.transform(X_test)\n",
        "\n",
        "selector = SelectKBest(f_regression, k=10)\n",
        "X_train_selected = selector.fit_transform(X_train_poly, y_train)\n",
        "X_test_selected = selector.transform(X_test_poly)\n",
        "\n",
        "my_model_optim = MyLinearRegression(lr=0.01, max_iter=2000)\n",
        "my_model_optim.fit(X_train_selected, y_train)\n",
        "y_pred_optimized = my_model_optim.predict(X_test_selected)\n",
        "\n",
        "print(\"\\nУлучшенная собственная модель:\")\n",
        "print(\"MSE:\", mean_squared_error(y_test, y_pred_optimized))\n",
        "print(\"R2:\", r2_score(y_test, y_pred_optimized))\n",
        "\n",
        "sklearn_model = LinearRegression()\n",
        "sklearn_model.fit(X_train_selected, y_train)\n",
        "y_pred_sklearn = sklearn_model.predict(X_test_selected)\n",
        "\n",
        "print(\"\\nУлучшенная библиотечная модель:\")\n",
        "print(\"MSE:\", mean_squared_error(y_test, y_pred_sklearn))\n",
        "print(\"R2:\", r2_score(y_test, y_pred_sklearn))\n",
        "\n",
        "plt.figure(figsize=(10, 6))\n",
        "plt.scatter(y_test, y_pred_optimized, label='My model', alpha=0.7)\n",
        "#plt.scatter(y_test, y_pred_sklearn, label='Sklearn model', alpha=0.7)\n",
        "plt.plot([y_test.min(), y_test.max()], [y_test.min(), y_test.max()], 'k--', lw=2, label='Perfect')\n",
        "plt.xlabel('Actual')\n",
        "plt.ylabel('Predicted')\n",
        "plt.legend()\n",
        "plt.show()\n"
      ],
      "metadata": {
        "colab": {
          "base_uri": "https://localhost:8080/",
          "height": 681
        },
        "id": "v-6xt2jQTJDm",
        "outputId": "2e5e0e2d-5978-4a0c-eab3-3f972f16624a"
      },
      "execution_count": 52,
      "outputs": [
        {
          "output_type": "stream",
          "name": "stdout",
          "text": [
            "\n",
            "Улучшенная собственная модель:\n",
            "MSE: 18330586.257962972\n",
            "R2: 0.634035704144175\n",
            "\n",
            "Улучшенная библиотечная модель:\n",
            "MSE: 18330586.257962983\n",
            "R2: 0.6340357041441748\n"
          ]
        },
        {
          "output_type": "display_data",
          "data": {
            "text/plain": [
              "<Figure size 1000x600 with 1 Axes>"
            ],
            "image/png": "[encoded data removed]"
          },
          "metadata": {}
        }
      ]
    },
    {
      "cell_type": "markdown",
      "source": [
        "Видим, что улучшения ни привели к значительному улучшению результата - собственная реализация и библиотечная имеют очень схожую точность, но в целом низкую - 0.634"
      ],
      "metadata": {
        "id": "ef5GkBcHuv_K"
      }
    }
  ]
}
