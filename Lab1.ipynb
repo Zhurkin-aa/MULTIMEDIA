{
  "nbformat": 4,
  "nbformat_minor": 0,
  "metadata": {
    "colab": {
      "provenance": []
    },
    "kernelspec": {
      "name": "python3",
      "display_name": "Python 3"
    },
    "language_info": {
      "name": "python"
    }
  },
  "cells": [
    {
      "cell_type": "markdown",
      "source": [
        "# ЛР №1 Проведение исследований с алгоритмом KNN.\n",
        "Для классификации был выбрал датасет 'Loan new dataset' https://www.kaggle.com/datasets/willianoliveiragibin/financial-risk-v2 \\\n",
        "Задачей было определять, разрешат ли кредит клиенту - столбец LoanApproved (0 - не разрешено, 1 - разрешено) \\\n",
        "Для регрессии был выбран датасет 'medical_insurance' https://www.kaggle.com/datasets/rahulvyasm/medical-insurance-cost-prediction \\\n",
        "Задачей было предсказывать цену страховки - столбец charges."
      ],
      "metadata": {
        "id": "iwu9W9faBwbG"
      }
    },
    {
      "cell_type": "markdown",
      "source": [
        "# Классификация\n",
        "Сначала рассмотрим задачу классификации"
      ],
      "metadata": {
        "id": "U7l2u9R6CEd1"
      }
    },
    {
      "cell_type": "markdown",
      "source": [
        "Загружаем датасет и смотрим его верхние строки"
      ],
      "metadata": {
        "id": "jWTvgV3GBxZl"
      }
    },
    {
      "cell_type": "code",
      "source": [
        "import pandas as pd\n",
        "from sklearn.model_selection import train_test_split, GridSearchCV\n",
        "from sklearn.preprocessing import StandardScaler, LabelEncoder\n",
        "from sklearn.impute import SimpleImputer\n",
        "from sklearn.neighbors import KNeighborsClassifier\n",
        "from sklearn.metrics import classification_report, accuracy_score\n",
        "\n",
        "file_path = \"loan.csv\"\n",
        "data = pd.read_csv(file_path)\n",
        "data.head()\n"
      ],
      "metadata": {
        "colab": {
          "base_uri": "https://localhost:8080/",
          "height": 255
        },
        "id": "VLIuEyBWPfgG",
        "outputId": "07c28436-1aa0-4336-8e40-70c3964db928"
      },
      "execution_count": 60,
      "outputs": [
        {
          "output_type": "execute_result",
          "data": {
            "text/plain": [
              "  ApplicationDate  Age  AnnualIncome  CreditScore EmploymentStatus  \\\n",
              "0      2018-01-01   45         39948          617         Employed   \n",
              "1      2018-01-02   38         39709          628         Employed   \n",
              "2      2018-01-03   47         40724          570         Employed   \n",
              "3      2018-01-04   58         69084          545         Employed   \n",
              "4      2018-01-05   37        103264          594         Employed   \n",
              "\n",
              "  EducationLevel  Experience  LoanAmount  LoanDuration MaritalStatus  ...  \\\n",
              "0         Master          22       13152            48       Married  ...   \n",
              "1      Associate          15       26045            48        Single  ...   \n",
              "2       Bachelor          26       17627            36       Married  ...   \n",
              "3    High School          34       37898            96        Single  ...   \n",
              "4      Associate          17        9184            36       Married  ...   \n",
              "\n",
              "            MonthlyIncome UtilityBillsPaymentHistory  JobTenure NetWorth  \\\n",
              "0                  3329.0      7.249.720.460.524.030         11   126928   \n",
              "1  33.090.833.333.333.300      9.351.320.992.549.320          3    43609   \n",
              "2  33.936.666.666.666.600      8.722.406.105.782.900          6     5205   \n",
              "3                  5757.0      8.961.547.069.636.460          5    99452   \n",
              "4   8.605.333.333.333.330      9.413.687.393.229.140          5   227019   \n",
              "\n",
              "         BaseInterestRate            InterestRate      MonthlyLoanPayment  \\\n",
              "0  19.965.200.000.000.000  22.758.963.035.547.000   4.198.059.915.607.370   \n",
              "1                 207.045   2.010.771.214.969.360   7.940.542.382.198.960   \n",
              "2  21.762.700.000.000.000  21.254.800.984.525.700   6.664.066.876.774.690   \n",
              "3                 300.398   3.009.108.491.496.010  10.475.069.802.292.900   \n",
              "4                 197.184  17.599.017.877.532.800  33.017.914.048.482.300   \n",
              "\n",
              "   TotalDebtToIncomeRatio LoanApproved  RiskScore  \n",
              "0  18.107.719.782.539.400            0       49.0  \n",
              "1   3.898.524.480.253.530            0       52.0  \n",
              "2   4.621.569.652.325.320            0       52.0  \n",
              "3   3.130.983.116.604.640            0       54.0  \n",
              "4   7.020.984.743.780.870            1       36.0  \n",
              "\n",
              "[5 rows x 36 columns]"
            ],
            "text/html": [
              "\n",
              "  <div id=\"df-6d6d329e-19f0-4de4-b003-d3a360fe085a\" class=\"colab-df-container\">\n",
              "    <div>\n",
              "<style scoped>\n",
              "    .dataframe tbody tr th:only-of-type {\n",
              "        vertical-align: middle;\n",
              "    }\n",
              "\n",
              "    .dataframe tbody tr th {\n",
              "        vertical-align: top;\n",
              "    }\n",
              "\n",
              "    .dataframe thead th {\n",
              "        text-align: right;\n",
              "    }\n",
              "</style>\n",
              "<table border=\"1\" class=\"dataframe\">\n",
              "  <thead>\n",
              "    <tr style=\"text-align: right;\">\n",
              "      <th></th>\n",
              "      <th>ApplicationDate</th>\n",
              "      <th>Age</th>\n",
              "      <th>AnnualIncome</th>\n",
              "      <th>CreditScore</th>\n",
              "      <th>EmploymentStatus</th>\n",
              "      <th>EducationLevel</th>\n",
              "      <th>Experience</th>\n",
              "      <th>LoanAmount</th>\n",
              "      <th>LoanDuration</th>\n",
              "      <th>MaritalStatus</th>\n",
              "      <th>...</th>\n",
              "      <th>MonthlyIncome</th>\n",
              "      <th>UtilityBillsPaymentHistory</th>\n",
              "      <th>JobTenure</th>\n",
              "      <th>NetWorth</th>\n",
              "      <th>BaseInterestRate</th>\n",
              "      <th>InterestRate</th>\n",
              "      <th>MonthlyLoanPayment</th>\n",
              "      <th>TotalDebtToIncomeRatio</th>\n",
              "      <th>LoanApproved</th>\n",
              "      <th>RiskScore</th>\n",
              "    </tr>\n",
              "  </thead>\n",
              "  <tbody>\n",
              "    <tr>\n",
              "      <th>0</th>\n",
              "      <td>2018-01-01</td>\n",
              "      <td>45</td>\n",
              "      <td>39948</td>\n",
              "      <td>617</td>\n",
              "      <td>Employed</td>\n",
              "      <td>Master</td>\n",
              "      <td>22</td>\n",
              "      <td>13152</td>\n",
              "      <td>48</td>\n",
              "      <td>Married</td>\n",
              "      <td>...</td>\n",
              "      <td>3329.0</td>\n",
              "      <td>7.249.720.460.524.030</td>\n",
              "      <td>11</td>\n",
              "      <td>126928</td>\n",
              "      <td>19.965.200.000.000.000</td>\n",
              "      <td>22.758.963.035.547.000</td>\n",
              "      <td>4.198.059.915.607.370</td>\n",
              "      <td>18.107.719.782.539.400</td>\n",
              "      <td>0</td>\n",
              "      <td>49.0</td>\n",
              "    </tr>\n",
              "    <tr>\n",
              "      <th>1</th>\n",
              "      <td>2018-01-02</td>\n",
              "      <td>38</td>\n",
              "      <td>39709</td>\n",
              "      <td>628</td>\n",
              "      <td>Employed</td>\n",
              "      <td>Associate</td>\n",
              "      <td>15</td>\n",
              "      <td>26045</td>\n",
              "      <td>48</td>\n",
              "      <td>Single</td>\n",
              "      <td>...</td>\n",
              "      <td>33.090.833.333.333.300</td>\n",
              "      <td>9.351.320.992.549.320</td>\n",
              "      <td>3</td>\n",
              "      <td>43609</td>\n",
              "      <td>207.045</td>\n",
              "      <td>2.010.771.214.969.360</td>\n",
              "      <td>7.940.542.382.198.960</td>\n",
              "      <td>3.898.524.480.253.530</td>\n",
              "      <td>0</td>\n",
              "      <td>52.0</td>\n",
              "    </tr>\n",
              "    <tr>\n",
              "      <th>2</th>\n",
              "      <td>2018-01-03</td>\n",
              "      <td>47</td>\n",
              "      <td>40724</td>\n",
              "      <td>570</td>\n",
              "      <td>Employed</td>\n",
              "      <td>Bachelor</td>\n",
              "      <td>26</td>\n",
              "      <td>17627</td>\n",
              "      <td>36</td>\n",
              "      <td>Married</td>\n",
              "      <td>...</td>\n",
              "      <td>33.936.666.666.666.600</td>\n",
              "      <td>8.722.406.105.782.900</td>\n",
              "      <td>6</td>\n",
              "      <td>5205</td>\n",
              "      <td>21.762.700.000.000.000</td>\n",
              "      <td>21.254.800.984.525.700</td>\n",
              "      <td>6.664.066.876.774.690</td>\n",
              "      <td>4.621.569.652.325.320</td>\n",
              "      <td>0</td>\n",
              "      <td>52.0</td>\n",
              "    </tr>\n",
              "    <tr>\n",
              "      <th>3</th>\n",
              "      <td>2018-01-04</td>\n",
              "      <td>58</td>\n",
              "      <td>69084</td>\n",
              "      <td>545</td>\n",
              "      <td>Employed</td>\n",
              "      <td>High School</td>\n",
              "      <td>34</td>\n",
              "      <td>37898</td>\n",
              "      <td>96</td>\n",
              "      <td>Single</td>\n",
              "      <td>...</td>\n",
              "      <td>5757.0</td>\n",
              "      <td>8.961.547.069.636.460</td>\n",
              "      <td>5</td>\n",
              "      <td>99452</td>\n",
              "      <td>300.398</td>\n",
              "      <td>3.009.108.491.496.010</td>\n",
              "      <td>10.475.069.802.292.900</td>\n",
              "      <td>3.130.983.116.604.640</td>\n",
              "      <td>0</td>\n",
              "      <td>54.0</td>\n",
              "    </tr>\n",
              "    <tr>\n",
              "      <th>4</th>\n",
              "      <td>2018-01-05</td>\n",
              "      <td>37</td>\n",
              "      <td>103264</td>\n",
              "      <td>594</td>\n",
              "      <td>Employed</td>\n",
              "      <td>Associate</td>\n",
              "      <td>17</td>\n",
              "      <td>9184</td>\n",
              "      <td>36</td>\n",
              "      <td>Married</td>\n",
              "      <td>...</td>\n",
              "      <td>8.605.333.333.333.330</td>\n",
              "      <td>9.413.687.393.229.140</td>\n",
              "      <td>5</td>\n",
              "      <td>227019</td>\n",
              "      <td>197.184</td>\n",
              "      <td>17.599.017.877.532.800</td>\n",
              "      <td>33.017.914.048.482.300</td>\n",
              "      <td>7.020.984.743.780.870</td>\n",
              "      <td>1</td>\n",
              "      <td>36.0</td>\n",
              "    </tr>\n",
              "  </tbody>\n",
              "</table>\n",
              "<p>5 rows × 36 columns</p>\n",
              "</div>\n",
              "    <div class=\"colab-df-buttons\">\n",
              "\n",
              "  <div class=\"colab-df-container\">\n",
              "    <button class=\"colab-df-convert\" onclick=\"convertToInteractive('df-6d6d329e-19f0-4de4-b003-d3a360fe085a')\"\n",
              "            title=\"Convert this dataframe to an interactive table.\"\n",
              "            style=\"display:none;\">\n",
              "\n",
              "  <svg xmlns=\"http://www.w3.org/2000/svg\" height=\"24px\" viewBox=\"0 -960 960 960\">\n",
              "    <path d=\"M120-120v-720h720v720H120Zm60-500h600v-160H180v160Zm220 220h160v-160H400v160Zm0 220h160v-160H400v160ZM180-400h160v-160H180v160Zm440 0h160v-160H620v160ZM180-180h160v-160H180v160Zm440 0h160v-160H620v160Z\"/>\n",
              "  </svg>\n",
              "    </button>\n",
              "\n",
              "  <style>\n",
              "    .colab-df-container {\n",
              "      display:flex;\n",
              "      gap: 12px;\n",
              "    }\n",
              "\n",
              "    .colab-df-convert {\n",
              "      background-color: #E8F0FE;\n",
              "      border: none;\n",
              "      border-radius: 50%;\n",
              "      cursor: pointer;\n",
              "      display: none;\n",
              "      fill: #1967D2;\n",
              "      height: 32px;\n",
              "      padding: 0 0 0 0;\n",
              "      width: 32px;\n",
              "    }\n",
              "\n",
              "    .colab-df-convert:hover {\n",
              "      background-color: #E2EBFA;\n",
              "      box-shadow: 0px 1px 2px rgba(60, 64, 67, 0.3), 0px 1px 3px 1px rgba(60, 64, 67, 0.15);\n",
              "      fill: #174EA6;\n",
              "    }\n",
              "\n",
              "    .colab-df-buttons div {\n",
              "      margin-bottom: 4px;\n",
              "    }\n",
              "\n",
              "    [theme=dark] .colab-df-convert {\n",
              "      background-color: #3B4455;\n",
              "      fill: #D2E3FC;\n",
              "    }\n",
              "\n",
              "    [theme=dark] .colab-df-convert:hover {\n",
              "      background-color: #434B5C;\n",
              "      box-shadow: 0px 1px 3px 1px rgba(0, 0, 0, 0.15);\n",
              "      filter: drop-shadow(0px 1px 2px rgba(0, 0, 0, 0.3));\n",
              "      fill: #FFFFFF;\n",
              "    }\n",
              "  </style>\n",
              "\n",
              "    <script>\n",
              "      const buttonEl =\n",
              "        document.querySelector('#df-6d6d329e-19f0-4de4-b003-d3a360fe085a button.colab-df-convert');\n",
              "      buttonEl.style.display =\n",
              "        google.colab.kernel.accessAllowed ? 'block' : 'none';\n",
              "\n",
              "      async function convertToInteractive(key) {\n",
              "        const element = document.querySelector('#df-6d6d329e-19f0-4de4-b003-d3a360fe085a');\n",
              "        const dataTable =\n",
              "          await google.colab.kernel.invokeFunction('convertToInteractive',\n",
              "                                                    [key], {});\n",
              "        if (!dataTable) return;\n",
              "\n",
              "        const docLinkHtml = 'Like what you see? Visit the ' +\n",
              "          '<a target=\"_blank\" href=https://colab.research.google.com/notebooks/data_table.ipynb>data table notebook</a>'\n",
              "          + ' to learn more about interactive tables.';\n",
              "        element.innerHTML = '';\n",
              "        dataTable['output_type'] = 'display_data';\n",
              "        await google.colab.output.renderOutput(dataTable, element);\n",
              "        const docLink = document.createElement('div');\n",
              "        docLink.innerHTML = docLinkHtml;\n",
              "        element.appendChild(docLink);\n",
              "      }\n",
              "    </script>\n",
              "  </div>\n",
              "\n",
              "\n",
              "<div id=\"df-988bb6b0-2ae2-4bb3-aa23-fe18e43473b5\">\n",
              "  <button class=\"colab-df-quickchart\" onclick=\"quickchart('df-988bb6b0-2ae2-4bb3-aa23-fe18e43473b5')\"\n",
              "            title=\"Suggest charts\"\n",
              "            style=\"display:none;\">\n",
              "\n",
              "<svg xmlns=\"http://www.w3.org/2000/svg\" height=\"24px\"viewBox=\"0 0 24 24\"\n",
              "     width=\"24px\">\n",
              "    <g>\n",
              "        <path d=\"M19 3H5c-1.1 0-2 .9-2 2v14c0 1.1.9 2 2 2h14c1.1 0 2-.9 2-2V5c0-1.1-.9-2-2-2zM9 17H7v-7h2v7zm4 0h-2V7h2v10zm4 0h-2v-4h2v4z\"/>\n",
              "    </g>\n",
              "</svg>\n",
              "  </button>\n",
              "\n",
              "<style>\n",
              "  .colab-df-quickchart {\n",
              "      --bg-color: #E8F0FE;\n",
              "      --fill-color: #1967D2;\n",
              "      --hover-bg-color: #E2EBFA;\n",
              "      --hover-fill-color: #174EA6;\n",
              "      --disabled-fill-color: #AAA;\n",
              "      --disabled-bg-color: #DDD;\n",
              "  }\n",
              "\n",
              "  [theme=dark] .colab-df-quickchart {\n",
              "      --bg-color: #3B4455;\n",
              "      --fill-color: #D2E3FC;\n",
              "      --hover-bg-color: #434B5C;\n",
              "      --hover-fill-color: #FFFFFF;\n",
              "      --disabled-bg-color: #3B4455;\n",
              "      --disabled-fill-color: #666;\n",
              "  }\n",
              "\n",
              "  .colab-df-quickchart {\n",
              "    background-color: var(--bg-color);\n",
              "    border: none;\n",
              "    border-radius: 50%;\n",
              "    cursor: pointer;\n",
              "    display: none;\n",
              "    fill: var(--fill-color);\n",
              "    height: 32px;\n",
              "    padding: 0;\n",
              "    width: 32px;\n",
              "  }\n",
              "\n",
              "  .colab-df-quickchart:hover {\n",
              "    background-color: var(--hover-bg-color);\n",
              "    box-shadow: 0 1px 2px rgba(60, 64, 67, 0.3), 0 1px 3px 1px rgba(60, 64, 67, 0.15);\n",
              "    fill: var(--button-hover-fill-color);\n",
              "  }\n",
              "\n",
              "  .colab-df-quickchart-complete:disabled,\n",
              "  .colab-df-quickchart-complete:disabled:hover {\n",
              "    background-color: var(--disabled-bg-color);\n",
              "    fill: var(--disabled-fill-color);\n",
              "    box-shadow: none;\n",
              "  }\n",
              "\n",
              "  .colab-df-spinner {\n",
              "    border: 2px solid var(--fill-color);\n",
              "    border-color: transparent;\n",
              "    border-bottom-color: var(--fill-color);\n",
              "    animation:\n",
              "      spin 1s steps(1) infinite;\n",
              "  }\n",
              "\n",
              "  @keyframes spin {\n",
              "    0% {\n",
              "      border-color: transparent;\n",
              "      border-bottom-color: var(--fill-color);\n",
              "      border-left-color: var(--fill-color);\n",
              "    }\n",
              "    20% {\n",
              "      border-color: transparent;\n",
              "      border-left-color: var(--fill-color);\n",
              "      border-top-color: var(--fill-color);\n",
              "    }\n",
              "    30% {\n",
              "      border-color: transparent;\n",
              "      border-left-color: var(--fill-color);\n",
              "      border-top-color: var(--fill-color);\n",
              "      border-right-color: var(--fill-color);\n",
              "    }\n",
              "    40% {\n",
              "      border-color: transparent;\n",
              "      border-right-color: var(--fill-color);\n",
              "      border-top-color: var(--fill-color);\n",
              "    }\n",
              "    60% {\n",
              "      border-color: transparent;\n",
              "      border-right-color: var(--fill-color);\n",
              "    }\n",
              "    80% {\n",
              "      border-color: transparent;\n",
              "      border-right-color: var(--fill-color);\n",
              "      border-bottom-color: var(--fill-color);\n",
              "    }\n",
              "    90% {\n",
              "      border-color: transparent;\n",
              "      border-bottom-color: var(--fill-color);\n",
              "    }\n",
              "  }\n",
              "</style>\n",
              "\n",
              "  <script>\n",
              "    async function quickchart(key) {\n",
              "      const quickchartButtonEl =\n",
              "        document.querySelector('#' + key + ' button');\n",
              "      quickchartButtonEl.disabled = true;  // To prevent multiple clicks.\n",
              "      quickchartButtonEl.classList.add('colab-df-spinner');\n",
              "      try {\n",
              "        const charts = await google.colab.kernel.invokeFunction(\n",
              "            'suggestCharts', [key], {});\n",
              "      } catch (error) {\n",
              "        console.error('Error during call to suggestCharts:', error);\n",
              "      }\n",
              "      quickchartButtonEl.classList.remove('colab-df-spinner');\n",
              "      quickchartButtonEl.classList.add('colab-df-quickchart-complete');\n",
              "    }\n",
              "    (() => {\n",
              "      let quickchartButtonEl =\n",
              "        document.querySelector('#df-988bb6b0-2ae2-4bb3-aa23-fe18e43473b5 button');\n",
              "      quickchartButtonEl.style.display =\n",
              "        google.colab.kernel.accessAllowed ? 'block' : 'none';\n",
              "    })();\n",
              "  </script>\n",
              "</div>\n",
              "    </div>\n",
              "  </div>\n"
            ],
            "application/vnd.google.colaboratory.intrinsic+json": {
              "type": "dataframe",
              "variable_name": "data"
            }
          },
          "metadata": {},
          "execution_count": 60
        }
      ]
    },
    {
      "cell_type": "markdown",
      "source": [
        "Посмотрим на распределение LoanApproved в датасете:"
      ],
      "metadata": {
        "id": "UpgxeklICAOt"
      }
    },
    {
      "cell_type": "code",
      "source": [
        "import matplotlib.pyplot as plt\n",
        "import seaborn as sns\n",
        "\n",
        "plt.figure(figsize=(8, 6))\n",
        "sns.countplot(x='LoanApproved', data=data)\n",
        "plt.title('LoanApproved')\n",
        "plt.xlabel('1-approve, 0-not approved')\n",
        "plt.ylabel('count')\n",
        "plt.show()"
      ],
      "metadata": {
        "colab": {
          "base_uri": "https://localhost:8080/",
          "height": 564
        },
        "id": "ariuSSQnFgD_",
        "outputId": "af122787-246f-4b07-8b54-9262bf89e1a4"
      },
      "execution_count": 61,
      "outputs": [
        {
          "output_type": "display_data",
          "data": {
            "text/plain": [
              "<Figure size 800x600 with 1 Axes>"
            ],
            "image/png": "[encoded data removed]"
          },
          "metadata": {}
        }
      ]
    },
    {
      "cell_type": "markdown",
      "source": [
        "Удалим ненужный столбец ApplicationDate, кодируем категориальные фичи и разделим фичи на целевые и не целевые"
      ],
      "metadata": {
        "id": "0mE2-PXpCNH-"
      }
    },
    {
      "cell_type": "code",
      "source": [
        "data_cleaned = data.drop(columns=['ApplicationDate'])\n",
        "\n",
        "imputer = SimpleImputer(strategy='mean')\n",
        "numerical_columns = data_cleaned.select_dtypes(include=['int64', 'float64']).columns\n",
        "data_cleaned[numerical_columns] = imputer.fit_transform(data_cleaned[numerical_columns])\n",
        "\n",
        "#кодирование категориальных фич\n",
        "\n",
        "categorical_columns = data_cleaned.select_dtypes(include=['object']).columns\n",
        "label_encoders = {}\n",
        "for column in categorical_columns:\n",
        "    le = LabelEncoder()\n",
        "    data_cleaned[column] = le.fit_transform(data_cleaned[column].astype(str))\n",
        "    label_encoders[column] = le\n",
        "\n",
        "#разделение фич на целевую и не целевую\n",
        "X = data_cleaned.drop(columns=['LoanApproved'])\n",
        "y = data_cleaned['LoanApproved']\n",
        "\n",
        "X_train, X_test, y_train, y_test = train_test_split(X, y, test_size=0.2, random_state=42)\n",
        "scaler = StandardScaler()\n",
        "X_train = scaler.fit_transform(X_train)\n",
        "X_test = scaler.transform(X_test)\n"
      ],
      "metadata": {
        "id": "kl9l17QCVNTH"
      },
      "execution_count": 62,
      "outputs": []
    },
    {
      "cell_type": "markdown",
      "source": [
        "Обучение KNN. В качестве метрики качества будем использовать accuracy"
      ],
      "metadata": {
        "id": "q47jKKadCtAW"
      }
    },
    {
      "cell_type": "code",
      "source": [
        "knn_baseline = KNeighborsClassifier(n_neighbors=5)\n",
        "knn_baseline.fit(X_train, y_train)\n",
        "\n",
        "y_pred = knn_baseline.predict(X_test)\n",
        "baseline_accuracy = accuracy_score(y_test, y_pred)\n",
        "baseline_report = classification_report(y_test, y_pred)\n",
        "\n",
        "print(\"Accuracy:\", baseline_accuracy)\n",
        "print(baseline_report)\n"
      ],
      "metadata": {
        "colab": {
          "base_uri": "https://localhost:8080/"
        },
        "id": "i_y6u5bWVQbW",
        "outputId": "88048cba-8f37-43fb-ddaf-216b2215e152"
      },
      "execution_count": 63,
      "outputs": [
        {
          "output_type": "stream",
          "name": "stdout",
          "text": [
            "Accuracy: 0.95125\n",
            "              precision    recall  f1-score   support\n",
            "\n",
            "         0.0       0.95      0.98      0.97      2983\n",
            "         1.0       0.95      0.85      0.90      1017\n",
            "\n",
            "    accuracy                           0.95      4000\n",
            "   macro avg       0.95      0.92      0.93      4000\n",
            "weighted avg       0.95      0.95      0.95      4000\n",
            "\n"
          ]
        }
      ]
    },
    {
      "cell_type": "markdown",
      "source": [
        "Получаем достаточно высокие значения accuracy - 0.9512. Для класса одобрения кредита (1.0) recall ниже, поэтому это можно улучшить. \\\n",
        "Гипотеза - попробуем подобрать оптимальное число соседей (neighbors) - от 1 до 21 - и обучим модель заново. Число разбиений в кросс-валидации - 5"
      ],
      "metadata": {
        "id": "4p3jl5fdDDqO"
      }
    },
    {
      "cell_type": "code",
      "source": [
        "#поиск оптималного числа соседей\n",
        "param_grid = {'n_neighbors': range(1, 21)}\n",
        "grid_search = GridSearchCV(KNeighborsClassifier(), param_grid, cv=5, scoring='accuracy', n_jobs=-1)\n",
        "grid_search.fit(X_train, y_train)\n",
        "\n",
        "best_params = grid_search.best_params_\n",
        "best_score = grid_search.best_score_\n",
        "\n",
        "print(\"best neighbors:\", best_params)\n",
        "print(\"best score:\", best_score)\n",
        "\n",
        "#обучим улучшенную модель, чтобы посмотреть, как улучшится или не улучшится accuracy\n",
        "knn_optimized = KNeighborsClassifier(n_neighbors=best_params['n_neighbors'])\n",
        "knn_optimized.fit(X_train, y_train)\n",
        "y_pred_optimized = knn_optimized.predict(X_test)\n",
        "optimized_accuracy = accuracy_score(y_test, y_pred_optimized)\n",
        "optimized_report = classification_report(y_test, y_pred_optimized)\n",
        "\n",
        "print(\"optimized accuracy:\", optimized_accuracy)\n",
        "print(optimized_report)\n"
      ],
      "metadata": {
        "colab": {
          "base_uri": "https://localhost:8080/"
        },
        "id": "7fhSzl_UVUru",
        "outputId": "98b3f8bc-275a-404c-b50d-e02396f963e8"
      },
      "execution_count": 64,
      "outputs": [
        {
          "output_type": "stream",
          "name": "stdout",
          "text": [
            "best neighbors: {'n_neighbors': 17}\n",
            "best score: 0.95225\n",
            "optimized accuracy: 0.95525\n",
            "              precision    recall  f1-score   support\n",
            "\n",
            "         0.0       0.95      0.99      0.97      2983\n",
            "         1.0       0.98      0.84      0.91      1017\n",
            "\n",
            "    accuracy                           0.96      4000\n",
            "   macro avg       0.96      0.92      0.94      4000\n",
            "weighted avg       0.96      0.96      0.95      4000\n",
            "\n"
          ]
        }
      ]
    },
    {
      "cell_type": "code",
      "source": [
        "print(\"base model accuracy:\", baseline_accuracy)\n",
        "print(\"optimised model accuracy:\", optimized_accuracy)\n"
      ],
      "metadata": {
        "colab": {
          "base_uri": "https://localhost:8080/"
        },
        "id": "L1V8OWWtVaXW",
        "outputId": "ec20c00a-b1b9-43d3-a530-60b1d1cf43e3"
      },
      "execution_count": 65,
      "outputs": [
        {
          "output_type": "stream",
          "name": "stdout",
          "text": [
            "base model accuracy: 0.95125\n",
            "optimised model accuracy: 0.95525\n"
          ]
        }
      ]
    },
    {
      "cell_type": "markdown",
      "source": [
        "Вывод - оптимизация засчет подобранного оптмального числа соседей улучшила точность модели с 0.95 до 0.96 - результат улучшился не сильно, но accuracy и так была достаточно высокой - поэтому добиться еще более хороших результатов трудно."
      ],
      "metadata": {
        "id": "Zm78q8TVFSXX"
      }
    },
    {
      "cell_type": "code",
      "source": [],
      "metadata": {
        "id": "BJ1h2UZhVNk3"
      },
      "execution_count": null,
      "outputs": []
    },
    {
      "cell_type": "markdown",
      "source": [
        "# Регрессия\n",
        "Теперь перейдем к задаче регрессии. Импортируем датасет и посмотрим информацию о нем. Будем предсказывать charges"
      ],
      "metadata": {
        "id": "XA_d8OrFMa1F"
      }
    },
    {
      "cell_type": "code",
      "source": [
        "import pandas as pd\n",
        "\n",
        "file_path = 'medical_insurance.csv'\n",
        "data = pd.read_csv(file_path)\n",
        "\n",
        "\n",
        "data.head(), data.info()\n"
      ],
      "metadata": {
        "colab": {
          "base_uri": "https://localhost:8080/"
        },
        "id": "ycx3pD8VL2mn",
        "outputId": "edef1377-4b3e-45a1-f369-97e6e81b6a0e"
      },
      "execution_count": 66,
      "outputs": [
        {
          "output_type": "stream",
          "name": "stdout",
          "text": [
            "<class 'pandas.core.frame.DataFrame'>\n",
            "RangeIndex: 2772 entries, 0 to 2771\n",
            "Data columns (total 7 columns):\n",
            " #   Column    Non-Null Count  Dtype  \n",
            "---  ------    --------------  -----  \n",
            " 0   age       2772 non-null   int64  \n",
            " 1   sex       2772 non-null   object \n",
            " 2   bmi       2772 non-null   float64\n",
            " 3   children  2772 non-null   int64  \n",
            " 4   smoker    2772 non-null   object \n",
            " 5   region    2772 non-null   object \n",
            " 6   charges   2772 non-null   float64\n",
            "dtypes: float64(2), int64(2), object(3)\n",
            "memory usage: 151.7+ KB\n"
          ]
        },
        {
          "output_type": "execute_result",
          "data": {
            "text/plain": [
              "(   age     sex     bmi  children smoker     region      charges\n",
              " 0   19  female  27.900         0    yes  southwest  16884.92400\n",
              " 1   18    male  33.770         1     no  southeast   1725.55230\n",
              " 2   28    male  33.000         3     no  southeast   4449.46200\n",
              " 3   33    male  22.705         0     no  northwest  21984.47061\n",
              " 4   32    male  28.880         0     no  northwest   3866.85520,\n",
              " None)"
            ]
          },
          "metadata": {},
          "execution_count": 66
        }
      ]
    },
    {
      "cell_type": "markdown",
      "source": [
        "Преобразуем категориальные признаки, чтобы избавиться от текстовых признаков:"
      ],
      "metadata": {
        "id": "V40Q-L-jGeL9"
      }
    },
    {
      "cell_type": "code",
      "source": [
        "from sklearn.preprocessing import StandardScaler, LabelEncoder\n",
        "categorical_columns = data.select_dtypes(include=['object']).columns\n",
        "label_encoders = {}\n",
        "for column in categorical_columns:\n",
        "    le = LabelEncoder()\n",
        "    data[column] = le.fit_transform(data[column].astype(str))\n",
        "    label_encoders[column] = le\n"
      ],
      "metadata": {
        "id": "1hCFK-JbL95P"
      },
      "execution_count": 67,
      "outputs": []
    },
    {
      "cell_type": "markdown",
      "source": [
        "Разделим данные на целевые и не целевые, а так же разделим на тестовую и обучающую выборки"
      ],
      "metadata": {
        "id": "n6uOZX9AGkF8"
      }
    },
    {
      "cell_type": "code",
      "source": [
        "from sklearn.model_selection import train_test_split\n",
        "\n",
        "X = data.drop('charges', axis=1)\n",
        "y = data['charges']\n",
        "\n",
        "X_train, X_test, y_train, y_test = train_test_split(X, y, test_size=0.2, random_state=42)\n"
      ],
      "metadata": {
        "id": "GfsDdMfxMAB_"
      },
      "execution_count": 68,
      "outputs": []
    },
    {
      "cell_type": "markdown",
      "source": [
        "Обучим базовую модель. В качестве метрик качества используем MSE и R^2 score."
      ],
      "metadata": {
        "id": "pdbgxSDSGtd7"
      }
    },
    {
      "cell_type": "code",
      "source": [
        "from sklearn.neighbors import KNeighborsRegressor\n",
        "from sklearn.metrics import mean_squared_error, r2_score\n",
        "\n",
        "baseline_model = KNeighborsRegressor()\n",
        "baseline_model.fit(X_train, y_train)\n",
        "\n",
        "y_pred = baseline_model.predict(X_test)\n",
        "\n",
        "mse = mean_squared_error(y_test, y_pred)\n",
        "r2 = r2_score(y_test, y_pred)\n",
        "\n",
        "print(\"MSE:\", mse)\n",
        "print(\"R^2 score:\", r2)"
      ],
      "metadata": {
        "colab": {
          "base_uri": "https://localhost:8080/"
        },
        "id": "AiKALK7UMEj3",
        "outputId": "1e65e421-3ba4-4a22-f2c2-2511df4a0b77"
      },
      "execution_count": 69,
      "outputs": [
        {
          "output_type": "stream",
          "name": "stdout",
          "text": [
            "MSE: 91389788.20287144\n",
            "R^2 score: 0.4045529172845289\n"
          ]
        }
      ]
    },
    {
      "cell_type": "markdown",
      "source": [
        "Сформулируем гипотезы по улучшению результата: \\\n",
        "- Нормализация данных \\\n",
        "- Подбор гиперпараметров \\\n",
        "\n",
        "Нормализуем данные с помощью StandardScaler из sklearn, а так же попробуем подобрать гиперпараметры."
      ],
      "metadata": {
        "id": "e1cqhicOMso3"
      }
    },
    {
      "cell_type": "code",
      "source": [
        "from sklearn.preprocessing import StandardScaler\n",
        "from sklearn.model_selection import GridSearchCV\n",
        "\n",
        "#нормализация данных\n",
        "scaler = StandardScaler()\n",
        "X_train_scaled = scaler.fit_transform(X_train)\n",
        "X_test_scaled = scaler.transform(X_test)\n",
        "\n",
        "#подбор гиперпараметров\n",
        "param_grid = {\n",
        "    'n_neighbors': [3, 5, 7, 9],\n",
        "    'weights': ['uniform', 'distance'],\n",
        "    'p': [1, 2]  #manhattan и евклидовые расстояния\n",
        "}\n",
        "grid_search = GridSearchCV(KNeighborsRegressor(), param_grid, cv=5, scoring='neg_mean_squared_error')\n",
        "grid_search.fit(X_train_scaled, y_train)\n",
        "\n",
        "print(\"best params:\", grid_search.best_params_)\n"
      ],
      "metadata": {
        "colab": {
          "base_uri": "https://localhost:8080/"
        },
        "id": "jiudd6hxMHZf",
        "outputId": "50918f52-6a26-4076-d26b-3694bf4225ee"
      },
      "execution_count": 70,
      "outputs": [
        {
          "output_type": "stream",
          "name": "stdout",
          "text": [
            "best params: {'n_neighbors': 9, 'p': 2, 'weights': 'distance'}\n"
          ]
        }
      ]
    },
    {
      "cell_type": "markdown",
      "source": [
        "Получили лучшие параметры - число соседей 9, p - 2 (евклидово расстояние), веса - distance. \\\n",
        "Обучим модель с новыми параметрами:"
      ],
      "metadata": {
        "id": "5ZsfpMOjHzP0"
      }
    },
    {
      "cell_type": "code",
      "source": [
        "best_model = grid_search.best_estimator_\n",
        "best_model.fit(X_train_scaled, y_train)\n",
        "\n",
        "y_pred_improved = best_model.predict(X_test_scaled)\n",
        "\n",
        "mse_improved = mean_squared_error(y_test, y_pred_improved)\n",
        "r2_improved = r2_score(y_test, y_pred_improved)\n",
        "\n",
        "print(\"improved MSE:\", mse_improved)\n",
        "print(\"improved R^2 score:\", r2_improved)\n"
      ],
      "metadata": {
        "colab": {
          "base_uri": "https://localhost:8080/"
        },
        "id": "4pSIyZG8MJ1H",
        "outputId": "1cb13d28-95a5-4be5-f551-2448563b244e"
      },
      "execution_count": 71,
      "outputs": [
        {
          "output_type": "stream",
          "name": "stdout",
          "text": [
            "improved MSE: 6321886.3993354505\n",
            "improved R^2 score: 0.9588099623845651\n"
          ]
        }
      ]
    },
    {
      "cell_type": "code",
      "source": [
        "print(\"base MSE:\", mse, \"improved MSE:\",mse_improved)\n",
        "print(\"base R^2:\", r2, \"improved R^2:\", r2_improved)\n"
      ],
      "metadata": {
        "colab": {
          "base_uri": "https://localhost:8080/"
        },
        "id": "AbLzhn5xMMff",
        "outputId": "4586c65c-0f89-47e2-e491-171732b3fa7a"
      },
      "execution_count": 73,
      "outputs": [
        {
          "output_type": "stream",
          "name": "stdout",
          "text": [
            "base MSE: 91389788.20287144 improved MSE: 6321886.3993354505\n",
            "base R^2: 0.4045529172845289 improved R^2: 0.9588099623845651\n"
          ]
        }
      ]
    },
    {
      "cell_type": "markdown",
      "source": [
        "Видно, что улучшения сильно улучшили показатели модели, например R^2 score стал почти в 2 раза больше. \\\n",
        "Построим график предсказанных и правильных значений, чтобы убедиться в точности модели:"
      ],
      "metadata": {
        "id": "QxjhA-kHIJc0"
      }
    },
    {
      "cell_type": "code",
      "source": [
        "import matplotlib.pyplot as plt\n",
        "import numpy as np\n",
        "\n",
        "plt.figure(figsize=(8, 8))\n",
        "plt.scatter(y_test, y_pred_improved, alpha=0.6, edgecolor='k', label=\"predictions\")\n",
        "plt.plot([y_test.min(), y_test.max()], [y_test.min(), y_test.max()], 'r--', lw=2, label=\"ideal\")\n",
        "plt.title(\"model acc test\")\n",
        "plt.xlabel(\"actual values\")\n",
        "plt.ylabel(\"predicted values\")\n",
        "plt.legend()\n",
        "plt.grid(True)\n",
        "plt.show()\n"
      ],
      "metadata": {
        "colab": {
          "base_uri": "https://localhost:8080/",
          "height": 718
        },
        "id": "4NvSriR0MY4v",
        "outputId": "e4d4301b-5a02-44ec-efe4-da852976c693"
      },
      "execution_count": 74,
      "outputs": [
        {
          "output_type": "display_data",
          "data": {
            "text/plain": [
              "<Figure size 800x800 with 1 Axes>"
            ],
            "image/png": "[encoded data removed]"
          },
          "metadata": {}
        }
      ]
    },
    {
      "cell_type": "markdown",
      "source": [
        "По графику видно, что модель действительно очень точно предсказывает стоимость страховки. Почти все значения находятся на прямой идеальных предсказаний, или находятся в достаточной близости от нее."
      ],
      "metadata": {
        "id": "2MchJuYQInok"
      }
    },
    {
      "cell_type": "markdown",
      "source": [
        "# Самостоятельная имплементация регрессии"
      ],
      "metadata": {
        "id": "X7xPQe6hNGfH"
      }
    },
    {
      "cell_type": "markdown",
      "source": [
        "Определим класс регрессора со всеми необходимыми функциями:"
      ],
      "metadata": {
        "id": "b2qyh0q9JE1E"
      }
    },
    {
      "cell_type": "code",
      "source": [
        "import numpy as np\n",
        "\n",
        "class KNNRegressor:\n",
        "    def __init__(self, n_neighbors=5, p=2):\n",
        "        self.n_neighbors = n_neighbors\n",
        "        self.p = p\n",
        "\n",
        "    def fit(self, X, y):\n",
        "        self.X_train = np.array(X)\n",
        "        self.y_train = np.array(y)\n",
        "\n",
        "    def _distance(self, x1, x2):\n",
        "        return np.sum(np.abs(x1 - x2) ** self.p, axis=1) ** (1 / self.p)\n",
        "\n",
        "    def _predict_one(self, x):\n",
        "        distances = self._distance(self.X_train, x)\n",
        "        neighbor_indices = distances.argsort()[:self.n_neighbors]\n",
        "        neighbor_values = self.y_train[neighbor_indices]\n",
        "        return neighbor_values.mean()\n",
        "\n",
        "    def predict(self, X):\n",
        "        return np.array([self._predict_one(x) for x in X])\n"
      ],
      "metadata": {
        "id": "T0ee1e9HNLfv"
      },
      "execution_count": 75,
      "outputs": []
    },
    {
      "cell_type": "markdown",
      "source": [
        "Обучим модель на введенных ранее данных и посмотрим на полученные значения MSE и R^2 score. Число соседей оставим 5, метрика расстояния - Евклидово."
      ],
      "metadata": {
        "id": "uXR96ThuJOC0"
      }
    },
    {
      "cell_type": "code",
      "source": [
        "knn_model = KNNRegressor(n_neighbors=5, p=2)\n",
        "knn_model.fit(X_train_scaled, y_train)\n",
        "\n",
        "y_pred_custom = knn_model.predict(X_test_scaled)\n",
        "\n",
        "custom_mse = mean_squared_error(y_test, y_pred_custom)\n",
        "custom_r2 = r2_score(y_test, y_pred_custom)\n",
        "\n",
        "print(\"custom MSE:\", custom_mse)\n",
        "print(\"custom R^2 score:\", custom_r2)\n"
      ],
      "metadata": {
        "colab": {
          "base_uri": "https://localhost:8080/"
        },
        "id": "X0t8-cb_NRHn",
        "outputId": "11da6dad-8a24-4192-e3eb-e246a51babfe"
      },
      "execution_count": 77,
      "outputs": [
        {
          "output_type": "stream",
          "name": "stdout",
          "text": [
            "custom MSE: 24244373.760919515\n",
            "custom R^2 score: 0.8420366004552196\n"
          ]
        }
      ]
    },
    {
      "cell_type": "code",
      "source": [
        "print(\"base MSE:\", mse, \"custom MSE:\", custom_mse)\n",
        "print(\"base R^2:\", r2, \"custom R^2:\", custom_r2)\n"
      ],
      "metadata": {
        "colab": {
          "base_uri": "https://localhost:8080/"
        },
        "id": "E32sAWsgNTff",
        "outputId": "9ef46a05-3969-461b-e1a8-4f1c7998884c"
      },
      "execution_count": 78,
      "outputs": [
        {
          "output_type": "stream",
          "name": "stdout",
          "text": [
            "base MSE: 91389788.20287144 custom MSE: 24244373.760919515\n",
            "base R^2: 0.4045529172845289 custom R^2: 0.8420366004552196\n"
          ]
        }
      ]
    },
    {
      "cell_type": "markdown",
      "source": [
        "По метрикам видно, что кастомная модель работает лучше, чем базовая (MSE:\n",
        "25018209.67 < 89729299.02)"
      ],
      "metadata": {
        "id": "2iJ4kMoTJm8c"
      }
    },
    {
      "cell_type": "markdown",
      "source": [
        "Гипотеза - подберем оптимальные гиперпараметры, которые позволят улучшить точность модели. Выбирать будем из разных комбинаций метрик расстояния и числа соседей."
      ],
      "metadata": {
        "id": "U2DrWHMbJ2p0"
      }
    },
    {
      "cell_type": "code",
      "source": [
        "best_mse = float('inf')\n",
        "best_params = None\n",
        "\n",
        "for n_neighbors in [3, 5, 7, 9]:\n",
        "    for p in [1, 2]:\n",
        "        knn_model = KNNRegressor(n_neighbors=n_neighbors, p=p)\n",
        "        knn_model.fit(X_train_scaled, y_train)\n",
        "        y_pred_custom = knn_model.predict(X_test_scaled)\n",
        "        mse = mean_squared_error(y_test, y_pred_custom)\n",
        "        if mse < best_mse:\n",
        "            best_mse = mse\n",
        "            best_params = {'n_neighbors': n_neighbors, 'p': p}\n",
        "\n",
        "print(\"best params:\", best_params)\n",
        "print(\"best MSE:\", best_mse)\n"
      ],
      "metadata": {
        "colab": {
          "base_uri": "https://localhost:8080/"
        },
        "id": "6entANDsNV8_",
        "outputId": "45ebf793-3c68-4ad6-911b-0edcebd72d6d"
      },
      "execution_count": 79,
      "outputs": [
        {
          "output_type": "stream",
          "name": "stdout",
          "text": [
            "best params: {'n_neighbors': 3, 'p': 2}\n",
            "best MSE: 20927863.246673156\n"
          ]
        }
      ]
    },
    {
      "cell_type": "markdown",
      "source": [
        "Теперь обучим модель с новыми гиперпараметрами:"
      ],
      "metadata": {
        "id": "uIb4ZENKKKCr"
      }
    },
    {
      "cell_type": "code",
      "source": [
        "knn_model = KNNRegressor(n_neighbors=best_params['n_neighbors'], p=best_params['p'])\n",
        "knn_model.fit(X_train_scaled, y_train)\n",
        "\n",
        "y_pred_custom_improved = knn_model.predict(X_test_scaled)\n",
        "improved_custom_mse = mean_squared_error(y_test, y_pred_custom_improved)\n",
        "improved_custom_r2 = r2_score(y_test, y_pred_custom_improved)\n",
        "\n",
        "print(\"improved custom MSE:\",improved_custom_mse)\n",
        "print(\"improved custom R^2 score:\",improved_custom_r2)\n"
      ],
      "metadata": {
        "colab": {
          "base_uri": "https://localhost:8080/"
        },
        "id": "10Hl7qbbNY_f",
        "outputId": "b3ca6ab3-fbac-4a8c-9d29-88861c5baa64"
      },
      "execution_count": 80,
      "outputs": [
        {
          "output_type": "stream",
          "name": "stdout",
          "text": [
            "improved custom MSE: 20927863.246673156\n",
            "improved custom R^2 score: 0.8636452128542265\n"
          ]
        }
      ]
    },
    {
      "cell_type": "code",
      "source": [
        "print(\"base MSE:\", mse, \", improved base MSE:\", mse_improved, \", improved custom MSE:\", improved_custom_mse)\n",
        "print(\"base R^2:\", r2, \", improved base R^2:\", r2_improved, \", improved custom R^2:\", improved_custom_r2)\n"
      ],
      "metadata": {
        "colab": {
          "base_uri": "https://localhost:8080/"
        },
        "id": "GHNftAckNcJP",
        "outputId": "ebd7d948-0a99-4e7c-8598-b3e10d6a2bfd"
      },
      "execution_count": 81,
      "outputs": [
        {
          "output_type": "stream",
          "name": "stdout",
          "text": [
            "base MSE: 26099050.053674247 , improved base MSE: 6321886.3993354505 , improved custom MSE: 20927863.246673156\n",
            "base R^2: 0.4045529172845289 , improved base R^2: 0.9588099623845651 , improved custom R^2: 0.8636452128542265\n"
          ]
        }
      ]
    },
    {
      "cell_type": "markdown",
      "source": [
        "Видно, что наилучший результат показывает оптимизарованная библиотечная модель.\n",
        "Построим график, чтобы наглядно сравнить кастомную реализацию с библиотечной"
      ],
      "metadata": {
        "id": "9MtU6bzQW1cj"
      }
    },
    {
      "cell_type": "code",
      "source": [
        "import matplotlib.pyplot as plt\n",
        "import numpy as np\n",
        "\n",
        "plt.figure(figsize=(8, 8))\n",
        "plt.scatter(y_test, y_pred_custom_improved, alpha=0.6, edgecolor='k', label=\"predictions\")\n",
        "plt.plot([y_test.min(), y_test.max()], [y_test.min(), y_test.max()], 'r--', lw=2, label=\"ideal\")\n",
        "plt.title(\"model acc test\")\n",
        "plt.xlabel(\"actual values\")\n",
        "plt.ylabel(\"predicted values\")\n",
        "plt.legend()\n",
        "plt.grid(True)\n",
        "plt.show()"
      ],
      "metadata": {
        "colab": {
          "base_uri": "https://localhost:8080/",
          "height": 718
        },
        "id": "leQFhGQ8Lc00",
        "outputId": "8c505447-117e-4d16-fd46-6c447c9c7cc7"
      },
      "execution_count": 82,
      "outputs": [
        {
          "output_type": "display_data",
          "data": {
            "text/plain": [
              "<Figure size 800x800 with 1 Axes>"
            ],
            "image/png": "[encoded data removed]"
          },
          "metadata": {}
        }
      ]
    },
    {
      "cell_type": "markdown",
      "source": [
        "### Выводы:\n",
        "- Улучшенная собственная модель KNN показывает лучшие результаты по сравнению с базовой по метрике MSE, однако проигрывает базовой по R^2\n",
        "- Гиперпараметры (например, число соседей и выбранная метрика расстояния) значительно влияют на качество модели\n",
        "\n",
        "Можно сделать вывод, что бейзлайн модель показывает все же более лучший результат (что подтверждается графиком выше)\n"
      ],
      "metadata": {
        "id": "tdz79GHlNpLf"
      }
    },
    {
      "cell_type": "markdown",
      "source": [
        "# Самостоятельная имплементация классификации:"
      ],
      "metadata": {
        "id": "R7-HT5QYQD6A"
      }
    },
    {
      "cell_type": "markdown",
      "source": [
        "Перейдем к самостоятельной имплементации классификации. Импортируем данные из датасета:"
      ],
      "metadata": {
        "id": "VgNW3YSOK3DT"
      }
    },
    {
      "cell_type": "code",
      "source": [
        "import pandas as pd\n",
        "import numpy as np\n",
        "from sklearn.model_selection import train_test_split\n",
        "from sklearn.metrics import accuracy_score, precision_score, recall_score, f1_score, confusion_matrix\n",
        "\n",
        "file_path = \"loan.csv\"\n",
        "data = pd.read_csv(file_path)\n",
        "data = data.sample(n=1000, random_state=42)\n",
        "\n",
        "\n",
        "print(data.head())\n",
        "print(data.info())\n"
      ],
      "metadata": {
        "colab": {
          "base_uri": "https://localhost:8080/"
        },
        "id": "W_5FMNbh9WQ1",
        "outputId": "8453b1bf-3e1c-4e4f-dea7-a38529e0c52c"
      },
      "execution_count": 83,
      "outputs": [
        {
          "output_type": "stream",
          "name": "stdout",
          "text": [
            "      ApplicationDate  Age  AnnualIncome  CreditScore EmploymentStatus  \\\n",
            "10650      2047-02-28   37        100761          604         Employed   \n",
            "2041       2023-08-04   35        189154          509         Employed   \n",
            "8668       2041-09-25   44         73272          483         Employed   \n",
            "1114       2021-01-19   41         57115          412         Employed   \n",
            "13902      2056-01-24   39         61155          551         Employed   \n",
            "\n",
            "      EducationLevel  Experience  LoanAmount  LoanDuration MaritalStatus  ...  \\\n",
            "10650    High School          16       28479            84        Single  ...   \n",
            "2041     High School          11       11222            60       Married  ...   \n",
            "8668     High School          20       31573            48       Widowed  ...   \n",
            "1114          Master          20       21937            12       Married  ...   \n",
            "13902         Master          19       31510            48      Divorced  ...   \n",
            "\n",
            "                MonthlyIncome UtilityBillsPaymentHistory  JobTenure NetWorth  \\\n",
            "10650                 8396.75        809.983.107.925.423          7     7304   \n",
            "2041   15.762.833.333.333.300      8.315.074.831.811.240          7    22443   \n",
            "8668                   6106.0      8.008.300.974.084.420          1    20044   \n",
            "1114    4.759.583.333.333.330        954.406.965.505.639          5     1714   \n",
            "13902                 5096.25      8.402.668.842.681.820          3    55941   \n",
            "\n",
            "             BaseInterestRate            InterestRate      MonthlyLoanPayment  \\\n",
            "10650                 251.479   2.223.971.890.069.530   6.713.693.242.703.850   \n",
            "2041                  261.722   2.704.514.368.588.830   3.429.702.999.901.340   \n",
            "8668   28.507.299.999.999.900  34.208.759.999.999.900  12.153.876.006.337.200   \n",
            "1114                  280.937  28.061.348.708.259.900  21.177.103.606.559.900   \n",
            "13902                  25.101   2.508.145.535.948.300   1.046.213.156.154.710   \n",
            "\n",
            "       TotalDebtToIncomeRatio LoanApproved               RiskScore  \n",
            "10650   9.043.610.019.000.030            1                    41.6  \n",
            "2041    4.783.215.580.892.610            1  38.400.000.000.000.000  \n",
            "8668   27.143.589.921.941.000            0                    53.0  \n",
            "1114    5.308.679.738.750.230            0                    50.0  \n",
            "13902   3.098.774.895.569.710            0                    51.0  \n",
            "\n",
            "[5 rows x 36 columns]\n",
            "<class 'pandas.core.frame.DataFrame'>\n",
            "Index: 1000 entries, 10650 to 88\n",
            "Data columns (total 36 columns):\n",
            " #   Column                      Non-Null Count  Dtype \n",
            "---  ------                      --------------  ----- \n",
            " 0   ApplicationDate             1000 non-null   object\n",
            " 1   Age                         1000 non-null   int64 \n",
            " 2   AnnualIncome                1000 non-null   int64 \n",
            " 3   CreditScore                 1000 non-null   int64 \n",
            " 4   EmploymentStatus            1000 non-null   object\n",
            " 5   EducationLevel              1000 non-null   object\n",
            " 6   Experience                  1000 non-null   int64 \n",
            " 7   LoanAmount                  1000 non-null   int64 \n",
            " 8   LoanDuration                1000 non-null   int64 \n",
            " 9   MaritalStatus               1000 non-null   object\n",
            " 10  NumberOfDependents          1000 non-null   int64 \n",
            " 11  HomeOwnershipStatus         1000 non-null   object\n",
            " 12  MonthlyDebtPayments         1000 non-null   int64 \n",
            " 13  CreditCardUtilizationRate   1000 non-null   object\n",
            " 14  NumberOfOpenCreditLines     1000 non-null   int64 \n",
            " 15  NumberOfCreditInquiries     1000 non-null   int64 \n",
            " 16  DebtToIncomeRatio           1000 non-null   object\n",
            " 17  BankruptcyHistory           1000 non-null   int64 \n",
            " 18  LoanPurpose                 1000 non-null   object\n",
            " 19  PreviousLoanDefaults        1000 non-null   int64 \n",
            " 20  PaymentHistory              1000 non-null   int64 \n",
            " 21  LengthOfCreditHistory       1000 non-null   int64 \n",
            " 22  SavingsAccountBalance       1000 non-null   int64 \n",
            " 23  CheckingAccountBalance      1000 non-null   int64 \n",
            " 24  TotalAssets                 1000 non-null   int64 \n",
            " 25  TotalLiabilities            1000 non-null   int64 \n",
            " 26  MonthlyIncome               1000 non-null   object\n",
            " 27  UtilityBillsPaymentHistory  1000 non-null   object\n",
            " 28  JobTenure                   1000 non-null   int64 \n",
            " 29  NetWorth                    1000 non-null   int64 \n",
            " 30  BaseInterestRate            1000 non-null   object\n",
            " 31  InterestRate                1000 non-null   object\n",
            " 32  MonthlyLoanPayment          1000 non-null   object\n",
            " 33  TotalDebtToIncomeRatio      1000 non-null   object\n",
            " 34  LoanApproved                1000 non-null   int64 \n",
            " 35  RiskScore                   1000 non-null   object\n",
            "dtypes: int64(21), object(15)\n",
            "memory usage: 289.1+ KB\n",
            "None\n"
          ]
        }
      ]
    },
    {
      "cell_type": "markdown",
      "source": [
        "Преобразуем категориальные признаки, разделим выборки на обучающую и тестовую:"
      ],
      "metadata": {
        "id": "9Qeki1wEL9_U"
      }
    },
    {
      "cell_type": "code",
      "source": [
        "data = pd.get_dummies(data, drop_first=True)\n",
        "\n",
        "X = data.drop(\"LoanApproved\", axis=1)\n",
        "y = data[\"LoanApproved\"]\n",
        "\n",
        "X_train, X_test, y_train, y_test = train_test_split(X, y, test_size=0.01, random_state=42)"
      ],
      "metadata": {
        "id": "yaJ_zlyj9w8V"
      },
      "execution_count": 84,
      "outputs": []
    },
    {
      "cell_type": "markdown",
      "source": [
        "Определим кастомный классификатор"
      ],
      "metadata": {
        "id": "v0k5R7ZAOtiL"
      }
    },
    {
      "cell_type": "code",
      "source": [
        "import numpy as np\n",
        "from collections import Counter\n",
        "\n",
        "class CustomKNNClassifier:\n",
        "    def __init__(self, n_neighbors=5):\n",
        "        self.n_neighbors = n_neighbors\n",
        "\n",
        "    def fit(self, X, y):\n",
        "        self.X_train = np.array(X)\n",
        "        self.y_train = np.array(y)\n",
        "\n",
        "    def predict(self, X):\n",
        "        X = np.array(X)\n",
        "        predictions = []\n",
        "        for x in X:\n",
        "            distances = np.linalg.norm(self.X_train - x, axis=1)\n",
        "            neighbor_indices = np.argsort(distances)[:self.n_neighbors]\n",
        "            neighbor_labels = self.y_train[neighbor_indices]\n",
        "            most_common = Counter(neighbor_labels).most_common(1)\n",
        "            predictions.append(most_common[0][0])\n",
        "        return np.array(predictions)\n",
        "\n",
        "    def score(self, X, y):\n",
        "        predictions = self.predict(X)\n",
        "        return np.mean(predictions == np.array(y))\n",
        "    def get_params(self, deep=True):\n",
        "        return {'n_neighbors': self.n_neighbors}\n",
        "\n",
        "    def set_params(self, **params):\n",
        "        for key, value in params.items():\n",
        "            setattr(self, key, value)\n",
        "        return self\n",
        "\n"
      ],
      "metadata": {
        "id": "GuYeRA-j-ErV"
      },
      "execution_count": 85,
      "outputs": []
    },
    {
      "cell_type": "markdown",
      "source": [
        "Обучим кастомную модель, выведем результаты в консоль (будем ориентироваться на метрику accuracy)"
      ],
      "metadata": {
        "id": "txQP-fu-O6Fr"
      }
    },
    {
      "cell_type": "code",
      "source": [
        "from sklearn.preprocessing import StandardScaler\n",
        "\n",
        "scaler = StandardScaler()\n",
        "X_train = scaler.fit_transform(X_train)\n",
        "X_test = scaler.transform(X_test)\n",
        "\n",
        "model = CustomKNNClassifier(5)\n",
        "model.fit(X_train, y_train)\n",
        "\n",
        "y_pred = model.predict(X_test)\n",
        "\n",
        "print(\"Accuracy:\", accuracy_score(y_test, y_pred))\n"
      ],
      "metadata": {
        "colab": {
          "base_uri": "https://localhost:8080/"
        },
        "id": "v1xiN-kD-GfF",
        "outputId": "3207f3ae-b655-45bc-bf4e-0988134c3ea5"
      },
      "execution_count": 86,
      "outputs": [
        {
          "output_type": "stream",
          "name": "stdout",
          "text": [
            "Accuracy: 0.6\n"
          ]
        }
      ]
    },
    {
      "cell_type": "markdown",
      "source": [
        "Нормализация, поиск оптимальных параметров и обучение"
      ],
      "metadata": {
        "id": "LO3sqbBYYjDy"
      }
    },
    {
      "cell_type": "code",
      "source": [
        "from sklearn.model_selection import GridSearchCV\n",
        "\n",
        "from sklearn.preprocessing import StandardScaler\n",
        "from sklearn.metrics import classification_report, accuracy_score\n",
        "#norm\n",
        "scaler = StandardScaler()\n",
        "X_train = scaler.fit_transform(X_train)\n",
        "#поиск оптималного числа соседей\n",
        "param_grid = {'n_neighbors': [3,5,6,7]}\n",
        "grid_search = GridSearchCV(CustomKNNClassifier(), param_grid, cv=3, scoring='accuracy', n_jobs=-1)\n",
        "grid_search.fit(X_train, y_train)\n",
        "\n",
        "best_params = grid_search.best_params_\n",
        "best_score = grid_search.best_score_\n",
        "\n",
        "print(\"best neighbors:\", best_params)\n",
        "print(\"best score:\", best_score)\n",
        "\n",
        "#обучим улучшенную модель, чтобы посмотреть, как улучшится или не улучшится accuracy\n",
        "knn_optimized = CustomKNNClassifier(n_neighbors=best_params['n_neighbors'])\n",
        "knn_optimized.fit(X_train, y_train)\n",
        "y_pred_optimized = knn_optimized.predict(X_test)\n",
        "optimized_accuracy = accuracy_score(y_test, y_pred_optimized)\n",
        "\n",
        "print(\"optimized accuracy:\", optimized_accuracy)"
      ],
      "metadata": {
        "id": "3gvhQ-NfPX1b",
        "colab": {
          "base_uri": "https://localhost:8080/"
        },
        "outputId": "d2b0368d-ebce-4f4d-b58a-e85dd89de0f2"
      },
      "execution_count": 38,
      "outputs": [
        {
          "output_type": "stream",
          "name": "stdout",
          "text": [
            "best neighbors: {'n_neighbors': 3}\n",
            "best score: 0.7373737373737375\n",
            "optimized accuracy: 0.6\n"
          ]
        }
      ]
    },
    {
      "cell_type": "markdown",
      "source": [
        "Можно сделать вывод, что кастомный классификатор справляется хуже, чем бейзлайн. Это может быть связано с уменьшенным размером датасета (что было сделано исходя из hardware-ных ограничений)."
      ],
      "metadata": {
        "id": "CdEbJ0QH_WH1"
      }
    }
  ]
}
